{
 "cells": [
  {
   "cell_type": "markdown",
   "id": "394aa3da-69ea-43ed-afaa-aa9706b0f361",
   "metadata": {},
   "source": [
    "# Solvers"
   ]
  },
  {
   "cell_type": "markdown",
   "id": "cea3c422-c1cb-4117-b9bd-8d1ae18f745a",
   "metadata": {},
   "source": [
    "SymPy supports solving many types of equations, including algebraic equations, systems of equations, ordinary differential equations (ODEs), Diophantine equations, and inequalities. This guide will only go over the most common of these. To learn more, see the [solving guide in our documentation](https://docs.sympy.org/latest/guides/solving/index.html).\n",
    "\n",
    "Note, by \"solving\", we specifically mean finding an expression or set of expressions that make some equation or system of equations true. \"Solve\" may colloquially mean other things, like \"solve an integral\", but SymPy does not use \"solve\" in this manner. We would rather say \"evaluate an integral\". "
   ]
  },
  {
   "cell_type": "code",
   "execution_count": 1,
   "id": "6a335700-f994-48a6-bc5b-e0a0ac2a2960",
   "metadata": {
    "tags": []
   },
   "outputs": [],
   "source": [
    "from sympy import *\n",
    "x, y, z = symbols('x y z')\n",
    "init_printing()"
   ]
  },
  {
   "cell_type": "markdown",
   "id": "76dc5193-a056-465c-ac2f-921109006775",
   "metadata": {},
   "source": [
    "## Solving Algebraic Equations"
   ]
  },
  {
   "cell_type": "markdown",
   "id": "db0f2a2e-f12d-4187-9869-ea4b2a78047f",
   "metadata": {},
   "source": [
    "The most basic type of equation that SymPy can solve is an algebraic equation, like $$x^2 = y.$$\n",
    "\n",
    "First, to represent the equation, use the `Eq` object."
   ]
  },
  {
   "cell_type": "code",
   "execution_count": 2,
   "id": "2e0b0e65-dc70-4b0c-9fd9-28a6290a9990",
   "metadata": {
    "tags": []
   },
   "outputs": [
    {
     "data": {
      "image/png": "[encoded data removed]",
      "text/latex": [
       "$\\displaystyle x^{2} = y$"
      ],
      "text/plain": [
       " 2    \n",
       "x  = y"
      ]
     },
     "execution_count": 2,
     "metadata": {},
     "output_type": "execute_result"
    }
   ],
   "source": [
    "equation = Eq(x**2, y)\n",
    "equation"
   ]
  },
  {
   "cell_type": "markdown",
   "id": "0c12c794-4b44-42ac-a0a5-8a1943b3098b",
   "metadata": {},
   "source": [
    "Remember that `==` does a test if two expressions are exactly equal. It always returns either `True` or `False`. So you cannot use it for representing an equation."
   ]
  },
  {
   "cell_type": "code",
   "execution_count": 3,
   "id": "e83a94c4-1500-4670-a610-dac2d6455953",
   "metadata": {
    "tags": []
   },
   "outputs": [
    {
     "data": {
      "text/plain": [
       "False"
      ]
     },
     "execution_count": 3,
     "metadata": {},
     "output_type": "execute_result"
    }
   ],
   "source": [
    "x**2 == y"
   ]
  },
  {
   "cell_type": "markdown",
   "id": "d39b7303-d710-4574-bb88-1aad520cf343",
   "metadata": {},
   "source": [
    "To solve the equation, use the `solve()` function, like\n",
    "\n",
    "```\n",
    "solve(equation, variable)\n",
    "```"
   ]
  },
  {
   "cell_type": "code",
   "execution_count": 5,
   "id": "90147a8d-a4e0-43ba-b3c8-e83c26b4bb5b",
   "metadata": {
    "tags": []
   },
   "outputs": [
    {
     "data": {
      "image/png": "[encoded data removed]",
      "text/latex": [
       "$\\displaystyle \\left[ - \\sqrt{y}, \\  \\sqrt{y}\\right]$"
      ],
      "text/plain": [
       "[-√y, √y]"
      ]
     },
     "execution_count": 5,
     "metadata": {},
     "output_type": "execute_result"
    }
   ],
   "source": [
    "sol = solve(equation, x)\n",
    "sol"
   ]
  },
  {
   "cell_type": "markdown",
   "id": "30d99cb6-6f98-4a89-bd01-6e9b0339c263",
   "metadata": {},
   "source": [
    "The result is a list of solutions. We can access individual solutions using the usual indexing methods."
   ]
  },
  {
   "cell_type": "code",
   "execution_count": 6,
   "id": "835f7638-39a7-4503-ac9e-c946112d56c5",
   "metadata": {
    "tags": []
   },
   "outputs": [
    {
     "data": {
      "image/png": "[encoded data removed]",
      "text/latex": [
       "$\\displaystyle - \\sqrt{y}$"
      ],
      "text/plain": [
       "-√y"
      ]
     },
     "execution_count": 6,
     "metadata": {},
     "output_type": "execute_result"
    }
   ],
   "source": [
    "sol[0]"
   ]
  },
  {
   "cell_type": "code",
   "execution_count": 7,
   "id": "640ceae1-376e-4cac-86f9-89752b79bd45",
   "metadata": {
    "tags": []
   },
   "outputs": [
    {
     "data": {
      "image/png": "[encoded data removed]",
      "text/latex": [
       "$\\displaystyle \\sqrt{y}$"
      ],
      "text/plain": [
       "√y"
      ]
     },
     "execution_count": 7,
     "metadata": {},
     "output_type": "execute_result"
    }
   ],
   "source": [
    "sol[1]"
   ]
  },
  {
   "cell_type": "markdown",
   "id": "fae72521-acb8-436a-b27d-354b1ddf3ef7",
   "metadata": {},
   "source": [
    "We can plug the solutions back into the equation to verify that they are correct."
   ]
  },
  {
   "cell_type": "code",
   "execution_count": 8,
   "id": "7cd7b668-c6c8-442e-8735-c5324231c2dc",
   "metadata": {
    "tags": []
   },
   "outputs": [
    {
     "data": {
      "image/png": "[encoded data removed]",
      "text/latex": [
       "$\\displaystyle \\text{True}$"
      ],
      "text/plain": [
       "True"
      ]
     },
     "execution_count": 8,
     "metadata": {},
     "output_type": "execute_result"
    }
   ],
   "source": [
    "equation.subs(x, sol[0])"
   ]
  },
  {
   "cell_type": "markdown",
   "id": "d9236d1e-2c6b-43e3-a667-90f991e46e5a",
   "metadata": {},
   "source": [
    "The left side and right side of the result are the same, so the equation simplified to `True`."
   ]
  },
  {
   "cell_type": "markdown",
   "id": "c024d5ee-fc63-4195-908c-388587c8da56",
   "metadata": {},
   "source": [
    "Instead of using `Eq`, you can also just subtract one side of the equation from the other, and pass an expression that equals $0$ to `solve()`."
   ]
  },
  {
   "cell_type": "code",
   "execution_count": 9,
   "id": "b982d06b-c13f-42e6-8968-59efc96ad698",
   "metadata": {
    "tags": []
   },
   "outputs": [
    {
     "data": {
      "image/png": "[encoded data removed]",
      "text/latex": [
       "$\\displaystyle \\left[ - \\sqrt{y}, \\  \\sqrt{y}\\right]$"
      ],
      "text/plain": [
       "[-√y, √y]"
      ]
     },
     "execution_count": 9,
     "metadata": {},
     "output_type": "execute_result"
    }
   ],
   "source": [
    "solve(x**2 - y, x)"
   ]
  },
  {
   "cell_type": "markdown",
   "id": "7c4f60b9-9f41-48fe-b45a-906fc1751da0",
   "metadata": {},
   "source": [
    "Using expressions that equal 0 is often easier than using Eq, because they are easier to manipulate and easier to type. However, both methods are equivalent."
   ]
  },
  {
   "cell_type": "markdown",
   "id": "db113960-bba9-433d-afe2-fa32375a1b15",
   "metadata": {},
   "source": [
    "### Exercises"
   ]
  },
  {
   "cell_type": "markdown",
   "id": "8167ef69-bad7-4423-9e31-d6e91f87e93e",
   "metadata": {},
   "source": [
    "Solve the following equations"
   ]
  },
  {
   "cell_type": "markdown",
   "id": "d8e3cce9-4970-4883-9b89-55ebf9779bb3",
   "metadata": {},
   "source": [
    "## Important Notes about `solve`"
   ]
  },
  {
   "cell_type": "markdown",
   "id": "1bd7a7f9-a330-44ff-8845-a72b9915188e",
   "metadata": {},
   "source": [
    "There are a few important things to be aware of when using `solve`.\n",
    "\n",
    "1. Like other parts of SymPy, `solve` is designed to find **symbolic** solutions. We will discuss numerical solutions in a bit. This often means that `solve` is overkill if you are only interested in a numerical answer. For example:"
   ]
  },
  {
   "cell_type": "code",
   "execution_count": 11,
   "id": "e3fbeec5-af47-4b9f-b95a-7bed8c45b7d3",
   "metadata": {
    "tags": []
   },
   "outputs": [
    {
     "data": {
      "image/png": "[encoded data removed]",
      "text/latex": [
       "$\\displaystyle \\left[ - \\frac{\\sqrt{- \\frac{8}{3} + \\frac{14}{9 \\sqrt[3]{- \\frac{13}{108} + \\frac{\\sqrt{591} i}{36}}} + 2 \\sqrt[3]{- \\frac{13}{108} + \\frac{\\sqrt{591} i}{36}}}}{2} - \\frac{\\sqrt{- \\frac{16}{3} - 2 \\sqrt[3]{- \\frac{13}{108} + \\frac{\\sqrt{591} i}{36}} - \\frac{4}{\\sqrt{- \\frac{8}{3} + \\frac{14}{9 \\sqrt[3]{- \\frac{13}{108} + \\frac{\\sqrt{591} i}{36}}} + 2 \\sqrt[3]{- \\frac{13}{108} + \\frac{\\sqrt{591} i}{36}}}} - \\frac{14}{9 \\sqrt[3]{- \\frac{13}{108} + \\frac{\\sqrt{591} i}{36}}}}}{2}, \\  \\frac{\\sqrt{- \\frac{8}{3} + \\frac{14}{9 \\sqrt[3]{- \\frac{13}{108} + \\frac{\\sqrt{591} i}{36}}} + 2 \\sqrt[3]{- \\frac{13}{108} + \\frac{\\sqrt{591} i}{36}}}}{2} - \\frac{\\sqrt{- \\frac{16}{3} - 2 \\sqrt[3]{- \\frac{13}{108} + \\frac{\\sqrt{591} i}{36}} + \\frac{4}{\\sqrt{- \\frac{8}{3} + \\frac{14}{9 \\sqrt[3]{- \\frac{13}{108} + \\frac{\\sqrt{591} i}{36}}} + 2 \\sqrt[3]{- \\frac{13}{108} + \\frac{\\sqrt{591} i}{36}}}} - \\frac{14}{9 \\sqrt[3]{- \\frac{13}{108} + \\frac{\\sqrt{591} i}{36}}}}}{2}, \\  \\frac{\\sqrt{- \\frac{16}{3} - 2 \\sqrt[3]{- \\frac{13}{108} + \\frac{\\sqrt{591} i}{36}} - \\frac{4}{\\sqrt{- \\frac{8}{3} + \\frac{14}{9 \\sqrt[3]{- \\frac{13}{108} + \\frac{\\sqrt{591} i}{36}}} + 2 \\sqrt[3]{- \\frac{13}{108} + \\frac{\\sqrt{591} i}{36}}}} - \\frac{14}{9 \\sqrt[3]{- \\frac{13}{108} + \\frac{\\sqrt{591} i}{36}}}}}{2} - \\frac{\\sqrt{- \\frac{8}{3} + \\frac{14}{9 \\sqrt[3]{- \\frac{13}{108} + \\frac{\\sqrt{591} i}{36}}} + 2 \\sqrt[3]{- \\frac{13}{108} + \\frac{\\sqrt{591} i}{36}}}}{2}, \\  \\frac{\\sqrt{- \\frac{16}{3} - 2 \\sqrt[3]{- \\frac{13}{108} + \\frac{\\sqrt{591} i}{36}} + \\frac{4}{\\sqrt{- \\frac{8}{3} + \\frac{14}{9 \\sqrt[3]{- \\frac{13}{108} + \\frac{\\sqrt{591} i}{36}}} + 2 \\sqrt[3]{- \\frac{13}{108} + \\frac{\\sqrt{591} i}{36}}}} - \\frac{14}{9 \\sqrt[3]{- \\frac{13}{108} + \\frac{\\sqrt{591} i}{36}}}}}{2} + \\frac{\\sqrt{- \\frac{8}{3} + \\frac{14}{9 \\sqrt[3]{- \\frac{13}{108} + \\frac{\\sqrt{591} i}{36}}} + 2 \\sqrt[3]{- \\frac{13}{108} + \\frac{\\sqrt{591} i}{36}}}}{2}\\right]$"
      ],
      "text/plain": [
       "⎡                                                                                ______________________________________________________________________________________\n",
       "⎢                                                                               ╱              ________________                                                        \n",
       "⎢                                                                              ╱    16        ╱    13   √591⋅ⅈ                                   4                     \n",
       "⎢                                                                             ╱   - ── - 2⋅3 ╱  - ─── + ──────  - ─────────────────────────────────────────────────────\n",
       "⎢          _______________________________________________________           ╱      3      ╲╱     108     36              _____________________________________________\n",
       "⎢         ╱                                      ________________           ╱                                            ╱                                      _______\n",
       "⎢        ╱    8             14                  ╱    13   √591⋅ⅈ           ╱                                            ╱    8             14                  ╱    13 \n",
       "⎢       ╱   - ─ + ────────────────────── + 2⋅3 ╱  - ─── + ──────          ╱                                            ╱   - ─ + ────────────────────── + 2⋅3 ╱  - ─── \n",
       "⎢      ╱      3         ________________     ╲╱     108     36           ╱                                            ╱      3         ________________     ╲╱     108 \n",
       "⎢     ╱                ╱    13   √591⋅ⅈ                                 ╱                                            ╱                ╱    13   √591⋅ⅈ                 \n",
       "⎢    ╱            9⋅3 ╱  - ─── + ──────                                ╱                                            ╱            9⋅3 ╱  - ─── + ──────                 \n",
       "⎢  ╲╱               ╲╱     108     36                                ╲╱                                           ╲╱               ╲╱     108     36                   \n",
       "⎢- ─────────────────────────────────────────────────────────────── - ──────────────────────────────────────────────────────────────────────────────────────────────────\n",
       "⎣                                 2                                                                                                    2                               \n",
       "\n",
       "____________________________________                                                                                ___________________________________________________\n",
       "                                                                                                                   ╱              ________________                     \n",
       "                       14                                                                                         ╱    16        ╱    13   √591⋅ⅈ                      \n",
       "────────── - ──────────────────────                                                                              ╱   - ── - 2⋅3 ╱  - ─── + ──────  + ──────────────────\n",
       "__________         ________________           _______________________________________________________           ╱      3      ╲╱     108     36              __________\n",
       "_________         ╱    13   √591⋅ⅈ           ╱                                      ________________           ╱                                            ╱          \n",
       "  √591⋅ⅈ     9⋅3 ╱  - ─── + ──────          ╱    8             14                  ╱    13   √591⋅ⅈ           ╱                                            ╱    8      \n",
       "+ ──────       ╲╱     108     36           ╱   - ─ + ────────────────────── + 2⋅3 ╱  - ─── + ──────          ╱                                            ╱   - ─ + ───\n",
       "    36                                    ╱      3         ________________     ╲╱     108     36           ╱                                            ╱      3      \n",
       "                                         ╱                ╱    13   √591⋅ⅈ                                 ╱                                            ╱              \n",
       "                                        ╱            9⋅3 ╱  - ─── + ──────                                ╱                                            ╱            9⋅3\n",
       "                                      ╲╱               ╲╱     108     36                                ╲╱                                           ╲╱               ╲\n",
       "────────────────────────────────────, ─────────────────────────────────────────────────────────────── - ───────────────────────────────────────────────────────────────\n",
       "                                                                     2                                                                                                 \n",
       "\n",
       "_______________________________________________________________________              __________________________________________________________________________________\n",
       "                                                                                    ╱              ________________                                                    \n",
       "             4                                            14                       ╱    16        ╱    13   √591⋅ⅈ                                   4                 \n",
       "───────────────────────────────────────────── - ──────────────────────            ╱   - ── - 2⋅3 ╱  - ─── + ──────  - ─────────────────────────────────────────────────\n",
       "_____________________________________________         ________________           ╱      3      ╲╱     108     36              _________________________________________\n",
       "                            ________________         ╱    13   √591⋅ⅈ           ╱                                            ╱                                      ___\n",
       "       14                  ╱    13   √591⋅ⅈ     9⋅3 ╱  - ─── + ──────          ╱                                            ╱    8             14                  ╱   \n",
       "─────────────────── + 2⋅3 ╱  - ─── + ──────       ╲╱     108     36           ╱                                            ╱   - ─ + ────────────────────── + 2⋅3 ╱  - \n",
       "   ________________     ╲╱     108     36                                    ╱                                            ╱      3         ________________     ╲╱     \n",
       "  ╱    13   √591⋅ⅈ                                                          ╱                                            ╱                ╱    13   √591⋅ⅈ             \n",
       " ╱  - ─── + ──────                                                         ╱                                            ╱            9⋅3 ╱  - ─── + ──────             \n",
       "╱     108     36                                                         ╲╱                                           ╲╱               ╲╱     108     36               \n",
       "───────────────────────────────────────────────────────────────────────, ──────────────────────────────────────────────────────────────────────────────────────────────\n",
       "   2                                                                                                                                       2                           \n",
       "\n",
       "________________________________________                                                                                _______________________________________________\n",
       "                                                                                                                       ╱              ________________                 \n",
       "                           14                                                                                         ╱    16        ╱    13   √591⋅ⅈ                  \n",
       "────────────── - ──────────────────────                                                                              ╱   - ── - 2⋅3 ╱  - ─── + ──────  + ──────────────\n",
       "______________         ________________            _______________________________________________________          ╱      3      ╲╱     108     36              ______\n",
       "_____________         ╱    13   √591⋅ⅈ            ╱                                      ________________          ╱                                            ╱      \n",
       " 13   √591⋅ⅈ     9⋅3 ╱  - ─── + ──────           ╱    8             14                  ╱    13   √591⋅ⅈ          ╱                                            ╱    8  \n",
       "─── + ──────       ╲╱     108     36            ╱   - ─ + ────────────────────── + 2⋅3 ╱  - ─── + ──────         ╱                                            ╱   - ─ +\n",
       "108     36                                     ╱      3         ________________     ╲╱     108     36          ╱                                            ╱      3  \n",
       "                                              ╱                ╱    13   √591⋅ⅈ                                ╱                                            ╱          \n",
       "                                             ╱            9⋅3 ╱  - ─── + ──────                               ╱                                            ╱           \n",
       "                                           ╲╱               ╲╱     108     36                               ╲╱                                           ╲╱            \n",
       "──────────────────────────────────────── - ───────────────────────────────────────────────────────────────, ───────────────────────────────────────────────────────────\n",
       "                                                                          2                                                                                            \n",
       "\n",
       "___________________________________________________________________________                                                                  ⎤\n",
       "                                                                                                                                             ⎥\n",
       "                 4                                            14                                                                             ⎥\n",
       "───────────────────────────────────────────────── - ──────────────────────                                                                   ⎥\n",
       "_________________________________________________         ________________            _______________________________________________________⎥\n",
       "                                ________________         ╱    13   √591⋅ⅈ            ╱                                      ________________ ⎥\n",
       "           14                  ╱    13   √591⋅ⅈ     9⋅3 ╱  - ─── + ──────           ╱    8             14                  ╱    13   √591⋅ⅈ  ⎥\n",
       " ────────────────────── + 2⋅3 ╱  - ─── + ──────       ╲╱     108     36            ╱   - ─ + ────────────────────── + 2⋅3 ╱  - ─── + ──────  ⎥\n",
       "       ________________     ╲╱     108     36                                     ╱      3         ________________     ╲╱     108     36    ⎥\n",
       "      ╱    13   √591⋅ⅈ                                                           ╱                ╱    13   √591⋅ⅈ                           ⎥\n",
       " 9⋅3 ╱  - ─── + ──────                                                          ╱            9⋅3 ╱  - ─── + ──────                           ⎥\n",
       "   ╲╱     108     36                                                          ╲╱               ╲╱     108     36                             ⎥\n",
       "─────────────────────────────────────────────────────────────────────────── + ───────────────────────────────────────────────────────────────⎥\n",
       "       2                                                                                                     2                               ⎦"
      ]
     },
     "execution_count": 11,
     "metadata": {},
     "output_type": "execute_result"
    }
   ],
   "source": [
    "sols = solve(x**4 + 4*x**2 - 2*x + 1, x)\n",
    "sols"
   ]
  },
  {
   "cell_type": "markdown",
   "id": "df2dc10d-1496-40f9-b610-7f458bcc0847",
   "metadata": {},
   "source": [
    "Solve has used the general quartic equation to give all four solutions. This equation is inherently complicated. We can evaluate these numbers numerically with `evalf`:"
   ]
  },
  {
   "cell_type": "code",
   "execution_count": 14,
   "id": "78294337-0a66-496d-8cd0-52bcde5f2331",
   "metadata": {
    "tags": []
   },
   "outputs": [
    {
     "name": "stdout",
     "output_type": "stream",
     "text": [
      "-0.264316247972295 + 1.99036087692341*I\n",
      "0.264316247972295 + 0.422125262803572*I\n",
      "-0.264316247972295 - 1.99036087692341*I\n",
      "0.264316247972295 - 0.422125262803572*I\n"
     ]
    }
   ],
   "source": [
    "for i in sols:\n",
    "    print(i.evalf())"
   ]
  },
  {
   "cell_type": "markdown",
   "id": "d334e5bc-3710-4caa-88ca-cfad47389ae3",
   "metadata": {},
   "source": [
    "Again, though, if all we care about is a number, it's much simpler to just solve the equation numerically in the first place."
   ]
  },
  {
   "cell_type": "markdown",
   "id": "27e00174-5a45-477c-93cd-a3fb638ea119",
   "metadata": {},
   "source": [
    "2. `solve()` may not return every possible solution to an equation. If `solve()` returns an empty list, it may just mean that there were no algorithms to find the solutions to the given equation. It may also raise `NotImplementedError` in this case. Because `solve` only returns symbolic solutions, it is possible to have equations that have a numerical solution, but which cannot be represented in closed-form."
   ]
  },
  {
   "cell_type": "code",
   "execution_count": 15,
   "id": "d02aa5b6-073b-4c83-97f3-3f9a1a83d5b0",
   "metadata": {
    "tags": []
   },
   "outputs": [
    {
     "ename": "NotImplementedError",
     "evalue": "multiple generators [x, cos(x)]\nNo algorithms are implemented to solve equation -x + cos(x)",
     "output_type": "error",
     "traceback": [
      "\u001b[0;31m---------------------------------------------------------------------------\u001b[0m",
      "\u001b[0;31mNotImplementedError\u001b[0m                       Traceback (most recent call last)",
      "Cell \u001b[0;32mIn[15], line 1\u001b[0m\n\u001b[0;32m----> 1\u001b[0m \u001b[43msolve\u001b[49m\u001b[43m(\u001b[49m\u001b[43mcos\u001b[49m\u001b[43m(\u001b[49m\u001b[43mx\u001b[49m\u001b[43m)\u001b[49m\u001b[43m \u001b[49m\u001b[38;5;241;43m-\u001b[39;49m\u001b[43m \u001b[49m\u001b[43mx\u001b[49m\u001b[43m,\u001b[49m\u001b[43m \u001b[49m\u001b[43mx\u001b[49m\u001b[43m)\u001b[49m\n",
      "File \u001b[0;32m~/anaconda3/lib/python3.9/site-packages/sympy/solvers/solvers.py:1112\u001b[0m, in \u001b[0;36msolve\u001b[0;34m(f, *symbols, **flags)\u001b[0m\n\u001b[1;32m   1108\u001b[0m \u001b[38;5;66;03m#\u001b[39;00m\n\u001b[1;32m   1109\u001b[0m \u001b[38;5;66;03m# try to get a solution\u001b[39;00m\n\u001b[1;32m   1110\u001b[0m \u001b[38;5;66;03m###########################################################################\u001b[39;00m\n\u001b[1;32m   1111\u001b[0m \u001b[38;5;28;01mif\u001b[39;00m bare_f:\n\u001b[0;32m-> 1112\u001b[0m     solution \u001b[38;5;241m=\u001b[39m \u001b[43m_solve\u001b[49m\u001b[43m(\u001b[49m\u001b[43mf\u001b[49m\u001b[43m[\u001b[49m\u001b[38;5;241;43m0\u001b[39;49m\u001b[43m]\u001b[49m\u001b[43m,\u001b[49m\u001b[43m \u001b[49m\u001b[38;5;241;43m*\u001b[39;49m\u001b[43msymbols\u001b[49m\u001b[43m,\u001b[49m\u001b[43m \u001b[49m\u001b[38;5;241;43m*\u001b[39;49m\u001b[38;5;241;43m*\u001b[39;49m\u001b[43mflags\u001b[49m\u001b[43m)\u001b[49m\n\u001b[1;32m   1113\u001b[0m \u001b[38;5;28;01melse\u001b[39;00m:\n\u001b[1;32m   1114\u001b[0m     solution \u001b[38;5;241m=\u001b[39m _solve_system(f, symbols, \u001b[38;5;241m*\u001b[39m\u001b[38;5;241m*\u001b[39mflags)\n",
      "File \u001b[0;32m~/anaconda3/lib/python3.9/site-packages/sympy/solvers/solvers.py:1744\u001b[0m, in \u001b[0;36m_solve\u001b[0;34m(f, *symbols, **flags)\u001b[0m\n\u001b[1;32m   1741\u001b[0m \u001b[38;5;66;03m# ----------- end of fallback ----------------------------\u001b[39;00m\n\u001b[1;32m   1743\u001b[0m \u001b[38;5;28;01mif\u001b[39;00m result \u001b[38;5;129;01mis\u001b[39;00m \u001b[38;5;28;01mFalse\u001b[39;00m:\n\u001b[0;32m-> 1744\u001b[0m     \u001b[38;5;28;01mraise\u001b[39;00m \u001b[38;5;167;01mNotImplementedError\u001b[39;00m(\u001b[38;5;124m'\u001b[39m\u001b[38;5;130;01m\\n\u001b[39;00m\u001b[38;5;124m'\u001b[39m\u001b[38;5;241m.\u001b[39mjoin([msg, not_impl_msg \u001b[38;5;241m%\u001b[39m f]))\n\u001b[1;32m   1746\u001b[0m \u001b[38;5;28;01mif\u001b[39;00m flags\u001b[38;5;241m.\u001b[39mget(\u001b[38;5;124m'\u001b[39m\u001b[38;5;124msimplify\u001b[39m\u001b[38;5;124m'\u001b[39m, \u001b[38;5;28;01mTrue\u001b[39;00m):\n\u001b[1;32m   1747\u001b[0m     result \u001b[38;5;241m=\u001b[39m \u001b[38;5;28mlist\u001b[39m(\u001b[38;5;28mmap\u001b[39m(simplify, result))\n",
      "\u001b[0;31mNotImplementedError\u001b[0m: multiple generators [x, cos(x)]\nNo algorithms are implemented to solve equation -x + cos(x)"
     ]
    }
   ],
   "source": [
    "solve(cos(x) - x, x)"
   ]
  },
  {
   "cell_type": "markdown",
   "id": "34434d3f-7bda-4e42-99ea-6562361b3e9a",
   "metadata": {},
   "source": [
    "We can verify with a plot that this equation does have a solution."
   ]
  },
  {
   "cell_type": "code",
   "execution_count": 16,
   "id": "80cd29cb-0e85-4ac4-b88d-52848422c566",
   "metadata": {
    "tags": []
   },
   "outputs": [],
   "source": [
    "%matplotlib inline"
   ]
  },
  {
   "cell_type": "code",
   "execution_count": 18,
   "id": "4156b3f2-13c2-4d34-b86c-94d663298026",
   "metadata": {
    "tags": []
   },
   "outputs": [
    {
     "data": {
      "image/png": "[encoded data removed]",
      "text/plain": [
       "<Figure size 640x480 with 1 Axes>"
      ]
     },
     "metadata": {},
     "output_type": "display_data"
    },
    {
     "data": {
      "text/plain": [
       "<sympy.plotting.plot.Plot at 0x10ccbbf70>"
      ]
     },
     "execution_count": 18,
     "metadata": {},
     "output_type": "execute_result"
    }
   ],
   "source": [
    "plot(cos(x) - x)"
   ]
  },
  {
   "cell_type": "markdown",
   "id": "1809435c-fa62-4901-ba94-59834121a2d0",
   "metadata": {},
   "source": [
    "Another way this can happen is with equations with infinitely many solutions."
   ]
  },
  {
   "cell_type": "code",
   "execution_count": 19,
   "id": "b548d8d6-df3b-4f75-9829-06f1de4d7b37",
   "metadata": {
    "tags": []
   },
   "outputs": [
    {
     "data": {
      "image/png": "[encoded data removed]",
      "text/latex": [
       "$\\displaystyle \\left[ \\frac{\\pi}{2}\\right]$"
      ],
      "text/plain": [
       "⎡π⎤\n",
       "⎢─⎥\n",
       "⎣2⎦"
      ]
     },
     "execution_count": 19,
     "metadata": {},
     "output_type": "execute_result"
    }
   ],
   "source": [
    "solve(sin(x) - 1, x)"
   ]
  },
  {
   "cell_type": "markdown",
   "id": "8882d245-1481-4a59-9e7e-512f006084a0",
   "metadata": {},
   "source": [
    "The `solveset` function can represent infinite solution sets. However, for most use-cases, `solve` is preferred because its output format is easier to work with (a list or dictionary rather than a SymPy `Set`)."
   ]
  },
  {
   "cell_type": "code",
   "execution_count": 20,
   "id": "e9693590-94d5-470f-a955-4f240edbfc56",
   "metadata": {
    "tags": []
   },
   "outputs": [
    {
     "data": {
      "image/png": "[encoded data removed]",
      "text/latex": [
       "$\\displaystyle \\left\\{2 n \\pi + \\frac{\\pi}{2}\\; \\middle|\\; n \\in \\mathbb{Z}\\right\\}$"
      ],
      "text/plain": [
       "⎧        π │      ⎫\n",
       "⎨2⋅n⋅π + ─ │ n ∊ ℤ⎬\n",
       "⎩        2 │      ⎭"
      ]
     },
     "execution_count": 20,
     "metadata": {},
     "output_type": "execute_result"
    }
   ],
   "source": [
    "solveset(sin(x) - 1, x)"
   ]
  },
  {
   "cell_type": "markdown",
   "id": "10bddcd5-cd2a-483b-a03c-c026c1ba67f4",
   "metadata": {},
   "source": [
    "### Exercises"
   ]
  },
  {
   "cell_type": "markdown",
   "id": "1803e09e-d040-4f4f-b40d-da280fd55938",
   "metadata": {},
   "source": [
    "Solve the following equations.\n",
    "\n",
    "$$x^2 + 2x - 4 = 0$$\n",
    "$$\\tan(x) = \\sin(x)$$\n",
    "$$x^3 + yx^2 = 2$$\n",
    "\n",
    "(solve this last equation for both $x$ and $y$)"
   ]
  },
  {
   "cell_type": "code",
   "execution_count": null,
   "id": "f61c297b-7332-4627-ba7d-4b148024ac4e",
   "metadata": {},
   "outputs": [],
   "source": []
  },
  {
   "cell_type": "code",
   "execution_count": null,
   "id": "a3fb72f9-ce1f-4dc7-a440-56fda20653a6",
   "metadata": {},
   "outputs": [],
   "source": []
  },
  {
   "cell_type": "code",
   "execution_count": null,
   "id": "ab6f86af-8f8f-41e7-9f05-35d6ae7b979f",
   "metadata": {},
   "outputs": [],
   "source": []
  },
  {
   "cell_type": "code",
   "execution_count": null,
   "id": "f8f610e7-072b-4ef1-b579-f04b8689e592",
   "metadata": {},
   "outputs": [],
   "source": []
  },
  {
   "cell_type": "markdown",
   "id": "213d4a26-c385-4291-93ca-bd269af2bbbd",
   "metadata": {},
   "source": [
    "## Numerical Solutions"
   ]
  },
  {
   "cell_type": "markdown",
   "id": "70831f97-27c0-45fc-bd25-8ad61ce2329b",
   "metadata": {},
   "source": [
    "In most cases, if you want a numerical solution, you are best off using a numerical library like SciPy's [`fsolve`](https://docs.scipy.org/doc/scipy/reference/generated/scipy.optimize.fsolve.html#scipy.optimize.fsolve) (we will discuss this in depth in the [code generation section](07-Code-Generation.ipynb). \n",
    "\n",
    "However, SymPy can also be used for this. An advantage of using SymPy is that it supports arbitrary precision floating-point numbers, so you can find solutions with any specified degree of precision.\n",
    "\n",
    "To solve an equation numerically in SymPy, use the `nsolve` function. \n",
    "\n",
    "```\n",
    "nsolve(equation, starting_point)\n",
    "```\n",
    "\n",
    "`nsolve` takes a point which should be near the solution you are trying to find."
   ]
  },
  {
   "cell_type": "code",
   "execution_count": 23,
   "id": "8fe6177f-c59a-4ce8-b1a6-fe34093cffa3",
   "metadata": {
    "tags": []
   },
   "outputs": [
    {
     "data": {
      "image/png": "[encoded data removed]",
      "text/latex": [
       "$\\displaystyle 0.739085133215161$"
      ],
      "text/plain": [
       "0.739085133215161"
      ]
     },
     "execution_count": 23,
     "metadata": {},
     "output_type": "execute_result"
    }
   ],
   "source": [
    "nsolve(cos(x) - x, 1)"
   ]
  },
  {
   "cell_type": "markdown",
   "id": "229a4c25-9e75-4dcc-9006-b767b4672ac3",
   "metadata": {},
   "source": [
    "### Exercises"
   ]
  },
  {
   "cell_type": "markdown",
   "id": "6e657621-b05f-4b02-bea3-a61285e4b282",
   "metadata": {},
   "source": [
    "Solve the equations from above numerically, using `nsolve`.\n",
    "\n",
    "$$x^2 + 2x - 4 = 0$$\n",
    "$$\\tan(x) = \\sin(x)$$\n",
    "\n",
    "Remember that these equations have multiple solutions, so you may need to use multiple different starting points to find them all."
   ]
  },
  {
   "cell_type": "code",
   "execution_count": null,
   "id": "9feb62f3-b112-4dec-a485-a3f088448bec",
   "metadata": {},
   "outputs": [],
   "source": []
  },
  {
   "cell_type": "code",
   "execution_count": null,
   "id": "7b3793c0-12b4-466f-b2d6-073072ecd60e",
   "metadata": {},
   "outputs": [],
   "source": []
  },
  {
   "cell_type": "code",
   "execution_count": null,
   "id": "a6f9d38b-1a20-4fd6-8dff-89dd2409cad7",
   "metadata": {},
   "outputs": [],
   "source": []
  },
  {
   "cell_type": "code",
   "execution_count": null,
   "id": "f4750744-6150-4357-9d98-d3ae217f2e40",
   "metadata": {},
   "outputs": [],
   "source": []
  },
  {
   "cell_type": "markdown",
   "id": "ccfef60c-c695-4fe4-822e-c2f670b9bea7",
   "metadata": {},
   "source": [
    "## Systems of Equations"
   ]
  },
  {
   "cell_type": "markdown",
   "id": "bd2a56c9-884b-4328-8c03-23c1689d7acb",
   "metadata": {},
   "source": [
    "`solve()` also supports solving systems of equations.  To solve a system, use\n",
    "\n",
    "```\n",
    "solve(list_of_equations, list_of_variables, dict=True)\n",
    "```\n",
    "\n",
    "The `dict=True` flag is recommended, as this will make `solve` return the results as a list of dictionaries, which map variables to solutions. Without this flag, the output of `solve` may be more difficult to use programatically. \n",
    "\n",
    "Let's solve the linear system\n",
    "\n",
    "$$\\begin{eqnarray}\n",
    "x + y & = & 2z\\\\\n",
    "y  & = & -4z\n",
    "\\end{eqnarray}$$\n",
    "\n",
    "for $x$ and $y$ (treating $z$ as a constant)."
   ]
  },
  {
   "cell_type": "code",
   "execution_count": 38,
   "id": "1a820e5f-1a12-4cab-92b0-e10b36bba1d6",
   "metadata": {
    "tags": []
   },
   "outputs": [],
   "source": [
    "equations = [Eq(x + y, 2*z), Eq(y, -4*z)]"
   ]
  },
  {
   "cell_type": "code",
   "execution_count": 41,
   "id": "897a6ae1-a3c9-4b20-b0e5-e18ab7e9531d",
   "metadata": {
    "tags": []
   },
   "outputs": [
    {
     "data": {
      "image/png": "[encoded data removed]",
      "text/latex": [
       "$\\displaystyle \\left[ \\left\\{ x : 6 z, \\  y : - 4 z\\right\\}\\right]$"
      ],
      "text/plain": [
       "[{x: 6⋅z, y: -4⋅z}]"
      ]
     },
     "execution_count": 41,
     "metadata": {},
     "output_type": "execute_result"
    }
   ],
   "source": [
    "sols = solve(equations, [x, y], dict=True)\n",
    "sols"
   ]
  },
  {
   "cell_type": "markdown",
   "id": "41069213-fb22-4f4d-84fe-afc534205ce4",
   "metadata": {},
   "source": [
    "Note that any variable in the equations that we don't explicitly specify as a variable we want to solve for is treated as a constant (in this case, $z$)."
   ]
  },
  {
   "cell_type": "markdown",
   "id": "d946994a-f97e-450a-a02f-8f1e5f887f5e",
   "metadata": {},
   "source": [
    "We can access the solutions by iterating the dicts in the list (in this case, there is just one), and accessing the solution by each variable in the dict."
   ]
  },
  {
   "cell_type": "code",
   "execution_count": 42,
   "id": "2a0b32ef-bf77-45e1-809a-a00cab6138d8",
   "metadata": {
    "tags": []
   },
   "outputs": [
    {
     "name": "stdout",
     "output_type": "stream",
     "text": [
      "x = 6*z\n",
      "y = -4*z\n"
     ]
    }
   ],
   "source": [
    "for solution in sols:\n",
    "    print(\"x =\", solution[x])\n",
    "    print(\"y =\", solution[y])"
   ]
  },
  {
   "cell_type": "markdown",
   "id": "0b7cf887-6e1b-4eff-b32a-38eb1e59c196",
   "metadata": {},
   "source": [
    "One benefit of the dict representation is we can pass it directly to `subs` to plug the solution into the equation (or into another equation)."
   ]
  },
  {
   "cell_type": "code",
   "execution_count": 44,
   "id": "826ff850-2384-488f-80ab-9878b46aeda6",
   "metadata": {
    "tags": []
   },
   "outputs": [
    {
     "name": "stdout",
     "output_type": "stream",
     "text": [
      "True\n",
      "True\n"
     ]
    }
   ],
   "source": [
    "for solution in sols:\n",
    "    for equation in equations:\n",
    "        print(equation.subs(solution))"
   ]
  },
  {
   "cell_type": "markdown",
   "id": "38d5a9b2-d286-47dd-a029-141ea77a3ca4",
   "metadata": {},
   "source": [
    "Note that SymPy is primarily able to solve systems of equations that are either *linear* or *polynomial* in the variables being solved for. Most non-linear equations do not even have a closed-form solution, and remember that `solve()` *only* tries to find closed-form, symbolic solutions."
   ]
  },
  {
   "cell_type": "code",
   "execution_count": 45,
   "id": "c6c585d2-1bf6-4d30-8cac-4b80ce8ccc0d",
   "metadata": {
    "tags": []
   },
   "outputs": [],
   "source": [
    "equations = [cos(x) - sin(y), cos(x)*y - 1]"
   ]
  },
  {
   "cell_type": "code",
   "execution_count": 46,
   "id": "0381ac7d-5f71-45c4-9a31-ffbec66dd12d",
   "metadata": {
    "tags": []
   },
   "outputs": [
    {
     "ename": "NotImplementedError",
     "evalue": "could not solve -sin(1/cos(x)) + cos(x)",
     "output_type": "error",
     "traceback": [
      "\u001b[0;31m---------------------------------------------------------------------------\u001b[0m",
      "\u001b[0;31mNotImplementedError\u001b[0m                       Traceback (most recent call last)",
      "Cell \u001b[0;32mIn[46], line 1\u001b[0m\n\u001b[0;32m----> 1\u001b[0m \u001b[43msolve\u001b[49m\u001b[43m(\u001b[49m\u001b[43mequations\u001b[49m\u001b[43m,\u001b[49m\u001b[43m \u001b[49m\u001b[43m[\u001b[49m\u001b[43mx\u001b[49m\u001b[43m,\u001b[49m\u001b[43m \u001b[49m\u001b[43my\u001b[49m\u001b[43m]\u001b[49m\u001b[43m)\u001b[49m\n",
      "File \u001b[0;32m~/anaconda3/lib/python3.9/site-packages/sympy/solvers/solvers.py:1114\u001b[0m, in \u001b[0;36msolve\u001b[0;34m(f, *symbols, **flags)\u001b[0m\n\u001b[1;32m   1112\u001b[0m     solution \u001b[38;5;241m=\u001b[39m _solve(f[\u001b[38;5;241m0\u001b[39m], \u001b[38;5;241m*\u001b[39msymbols, \u001b[38;5;241m*\u001b[39m\u001b[38;5;241m*\u001b[39mflags)\n\u001b[1;32m   1113\u001b[0m \u001b[38;5;28;01melse\u001b[39;00m:\n\u001b[0;32m-> 1114\u001b[0m     solution \u001b[38;5;241m=\u001b[39m \u001b[43m_solve_system\u001b[49m\u001b[43m(\u001b[49m\u001b[43mf\u001b[49m\u001b[43m,\u001b[49m\u001b[43m \u001b[49m\u001b[43msymbols\u001b[49m\u001b[43m,\u001b[49m\u001b[43m \u001b[49m\u001b[38;5;241;43m*\u001b[39;49m\u001b[38;5;241;43m*\u001b[39;49m\u001b[43mflags\u001b[49m\u001b[43m)\u001b[49m\n\u001b[1;32m   1116\u001b[0m \u001b[38;5;66;03m#\u001b[39;00m\n\u001b[1;32m   1117\u001b[0m \u001b[38;5;66;03m# postprocessing\u001b[39;00m\n\u001b[1;32m   1118\u001b[0m \u001b[38;5;66;03m###########################################################################\u001b[39;00m\n\u001b[1;32m   1119\u001b[0m \u001b[38;5;66;03m# Restore masked-off objects\u001b[39;00m\n\u001b[1;32m   1120\u001b[0m \u001b[38;5;28;01mif\u001b[39;00m non_inverts:\n",
      "File \u001b[0;32m~/anaconda3/lib/python3.9/site-packages/sympy/solvers/solvers.py:1995\u001b[0m, in \u001b[0;36m_solve_system\u001b[0;34m(exprs, symbols, **flags)\u001b[0m\n\u001b[1;32m   1993\u001b[0m         got_s\u001b[38;5;241m.\u001b[39madd(s)\n\u001b[1;32m   1994\u001b[0m     \u001b[38;5;28;01mif\u001b[39;00m \u001b[38;5;129;01mnot\u001b[39;00m hit:\n\u001b[0;32m-> 1995\u001b[0m         \u001b[38;5;28;01mraise\u001b[39;00m \u001b[38;5;167;01mNotImplementedError\u001b[39;00m(\u001b[38;5;124m'\u001b[39m\u001b[38;5;124mcould not solve \u001b[39m\u001b[38;5;132;01m%s\u001b[39;00m\u001b[38;5;124m'\u001b[39m \u001b[38;5;241m%\u001b[39m eq2)\n\u001b[1;32m   1996\u001b[0m \u001b[38;5;28;01melse\u001b[39;00m:\n\u001b[1;32m   1997\u001b[0m     result \u001b[38;5;241m=\u001b[39m newresult\n",
      "\u001b[0;31mNotImplementedError\u001b[0m: could not solve -sin(1/cos(x)) + cos(x)"
     ]
    }
   ],
   "source": [
    "solve(equations, [x, y])"
   ]
  },
  {
   "cell_type": "markdown",
   "id": "3cf29d38-39c1-4d11-a13e-1e204fd29dd6",
   "metadata": {},
   "source": [
    "`nsolve` can solve systems of equations numerically, so if this is all you need, this is still the preferred method. \n",
    "\n",
    "To solve a system with `nsolve`, pass the variables to be solved for and a list of starting points."
   ]
  },
  {
   "cell_type": "code",
   "execution_count": 50,
   "id": "e0b45899-c144-4681-94a7-9ce05794dfd3",
   "metadata": {
    "tags": []
   },
   "outputs": [
    {
     "data": {
      "image/png": "[encoded data removed]",
      "text/latex": [
       "$\\displaystyle \\left[\\begin{matrix}0.456639185922967\\\\1.11415714087193\\end{matrix}\\right]$"
      ],
      "text/plain": [
       "⎡0.456639185922967⎤\n",
       "⎢                 ⎥\n",
       "⎣1.11415714087193 ⎦"
      ]
     },
     "execution_count": 50,
     "metadata": {},
     "output_type": "execute_result"
    }
   ],
   "source": [
    "nsolve(equations, [x, y], [1, 1])"
   ]
  },
  {
   "cell_type": "markdown",
   "id": "ca539aa9-9c30-43a7-a200-928e00cfd43f",
   "metadata": {},
   "source": [
    "## Exercises"
   ]
  },
  {
   "cell_type": "markdown",
   "id": "11c3d4f1-bef6-48fc-8063-929113e97eac",
   "metadata": {},
   "source": [
    "Solve the following system of equations. \n",
    "\n",
    "$$\n",
    "\\begin{eqnarray}\n",
    "x^{2} - x y &=& 1\\\\\n",
    "x + y & = & 0\n",
    "\\end{eqnarray}\n",
    "$$\n",
    "Then substitute the system into the original equations to verify they are correct."
   ]
  },
  {
   "cell_type": "code",
   "execution_count": null,
   "id": "553cf910-0467-4c34-a264-cfdd04e8b037",
   "metadata": {},
   "outputs": [],
   "source": []
  }
 ],
 "metadata": {
  "kernelspec": {
   "display_name": "Python 3 (ipykernel)",
   "language": "python",
   "name": "python3"
  },
  "language_info": {
   "codemirror_mode": {
    "name": "ipython",
    "version": 3
   },
   "file_extension": ".py",
   "mimetype": "text/x-python",
   "name": "python",
   "nbconvert_exporter": "python",
   "pygments_lexer": "ipython3",
   "version": "3.9.15"
  }
 },
 "nbformat": 4,
 "nbformat_minor": 5
}
