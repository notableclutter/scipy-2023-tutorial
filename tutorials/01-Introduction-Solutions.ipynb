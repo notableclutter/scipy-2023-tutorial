{
 "cells": [
  {
   "cell_type": "markdown",
   "id": "de889a15-35c3-4d13-8965-91a8da91c06c",
   "metadata": {},
   "source": [
    "# Solution for building SymPy expression"
   ]
  },
  {
   "cell_type": "code",
   "execution_count": 13,
   "id": "a1a6caae-d92a-462a-8850-881e63270f4d",
   "metadata": {},
   "outputs": [
    {
     "data": {
      "text/latex": [
       "$\\displaystyle \\sqrt[4]{x} + \\sqrt[3]{x} + \\sqrt{x}$"
      ],
      "text/plain": [
       "x**(1/4) + x**(1/3) + sqrt(x)"
      ]
     },
     "execution_count": 13,
     "metadata": {},
     "output_type": "execute_result"
    }
   ],
   "source": [
    "from sympy import *\n",
    "\n",
    "x = Symbol('x')\n",
    "\n",
    "x**(Integer(1) / 4) + x**(Integer(1) / 3) + x**(Integer(1) / 2)"
   ]
  },
  {
   "cell_type": "code",
   "execution_count": 16,
   "id": "7d9a2a8c-2ff5-4633-9caa-7e5537a2bc66",
   "metadata": {},
   "outputs": [
    {
     "data": {
      "text/latex": [
       "$\\displaystyle \\frac{x}{3} + \\frac{1}{3}$"
      ],
      "text/plain": [
       "x/3 + 1/3"
      ]
     },
     "execution_count": 16,
     "metadata": {},
     "output_type": "execute_result"
    }
   ],
   "source": [
    "(x + 1) / 3"
   ]
  },
  {
   "cell_type": "code",
   "execution_count": 15,
   "id": "89c3a0d0-ff98-4fc2-8669-a40320bda98d",
   "metadata": {},
   "outputs": [
    {
     "data": {
      "text/latex": [
       "$\\displaystyle x + \\frac{1}{3}$"
      ],
      "text/plain": [
       "x + 1/3"
      ]
     },
     "execution_count": 15,
     "metadata": {},
     "output_type": "execute_result"
    }
   ],
   "source": [
    "x + Integer(1) / 3"
   ]
  },
  {
   "cell_type": "markdown",
   "id": "8efcf4b8-e652-438e-9734-5a14293b68c1",
   "metadata": {},
   "source": [
    "# Solution for the chebyshev polynomials"
   ]
  },
  {
   "cell_type": "code",
   "execution_count": 7,
   "id": "6e38dda6-1d5e-475b-ab38-22938b372c5d",
   "metadata": {},
   "outputs": [],
   "source": [
    "def chebyshev(k, x):\n",
    "    if k == 0:\n",
    "        return Integer(1)\n",
    "    elif k == 1:\n",
    "        return x\n",
    "    return 2*x*chebyshev(k - 1, x) - chebyshev(k - 2, x)"
   ]
  },
  {
   "cell_type": "code",
   "execution_count": 8,
   "id": "9c85b6e1-7287-4159-9dc3-3bbd850cd1e2",
   "metadata": {},
   "outputs": [
    {
     "data": {
      "text/latex": [
       "$\\displaystyle 1$"
      ],
      "text/plain": [
       "1"
      ]
     },
     "execution_count": 8,
     "metadata": {},
     "output_type": "execute_result"
    }
   ],
   "source": [
    "from sympy import *\n",
    "\n",
    "x = Symbol('x')\n",
    "chebyshev(0, x)"
   ]
  },
  {
   "cell_type": "code",
   "execution_count": 9,
   "id": "d29be920-cc5d-4735-a160-2d2106ef506d",
   "metadata": {},
   "outputs": [
    {
     "data": {
      "text/latex": [
       "$\\displaystyle x$"
      ],
      "text/plain": [
       "x"
      ]
     },
     "execution_count": 9,
     "metadata": {},
     "output_type": "execute_result"
    }
   ],
   "source": [
    "chebyshev(1, x)"
   ]
  },
  {
   "cell_type": "code",
   "execution_count": 10,
   "id": "fae966a2-cc06-4d4c-86d2-c41cb09ccf0c",
   "metadata": {},
   "outputs": [
    {
     "data": {
      "text/latex": [
       "$\\displaystyle 2 x^{2} - 1$"
      ],
      "text/plain": [
       "2*x**2 - 1"
      ]
     },
     "execution_count": 10,
     "metadata": {},
     "output_type": "execute_result"
    }
   ],
   "source": [
    "chebyshev(2, x)"
   ]
  },
  {
   "cell_type": "code",
   "execution_count": 11,
   "id": "318eb8df-450d-4961-822e-16859b09263b",
   "metadata": {},
   "outputs": [
    {
     "data": {
      "text/latex": [
       "$\\displaystyle 2 x \\left(2 x^{2} - 1\\right) - x$"
      ],
      "text/plain": [
       "2*x*(2*x**2 - 1) - x"
      ]
     },
     "execution_count": 11,
     "metadata": {},
     "output_type": "execute_result"
    }
   ],
   "source": [
    "chebyshev(3, x)"
   ]
  },
  {
   "cell_type": "code",
   "execution_count": 12,
   "id": "201f6dfe-4957-49ef-bc72-a0d4febede34",
   "metadata": {},
   "outputs": [
    {
     "data": {
      "text/latex": [
       "$\\displaystyle - 2 x^{2} + 2 x \\left(2 x \\left(2 x^{2} - 1\\right) - x\\right) + 1$"
      ],
      "text/plain": [
       "-2*x**2 + 2*x*(2*x*(2*x**2 - 1) - x) + 1"
      ]
     },
     "execution_count": 12,
     "metadata": {},
     "output_type": "execute_result"
    }
   ],
   "source": [
    "chebyshev(4, x)"
   ]
  },
  {
   "cell_type": "code",
   "execution_count": null,
   "id": "e4de23ef-1bd9-41dc-9eef-e17cb8a517bf",
   "metadata": {},
   "outputs": [],
   "source": []
  }
 ],
 "metadata": {
  "kernelspec": {
   "display_name": "Python 3 (ipykernel)",
   "language": "python",
   "name": "python3"
  },
  "language_info": {
   "codemirror_mode": {
    "name": "ipython",
    "version": 3
   },
   "file_extension": ".py",
   "mimetype": "text/x-python",
   "name": "python",
   "nbconvert_exporter": "python",
   "pygments_lexer": "ipython3",
   "version": "3.11.2"
  }
 },
 "nbformat": 4,
 "nbformat_minor": 5
}
