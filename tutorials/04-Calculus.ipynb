{
 "cells": [
  {
   "cell_type": "markdown",
   "id": "c83a1127-2ff8-421d-850e-b7077a770c49",
   "metadata": {},
   "source": [
    "# Calculus\n",
    "\n",
    "In this section, we will learn how to use SymPy to perform the basic calculus operations:\n",
    "\n",
    "- Differentiation\n",
    "- Integration\n",
    "- Limits\n",
    "- Series Expansion"
   ]
  },
  {
   "cell_type": "code",
   "execution_count": 62,
   "id": "dd7f58e6-3bbc-4e21-85c2-4beec39185f8",
   "metadata": {
    "tags": []
   },
   "outputs": [],
   "source": [
    "from sympy import *\n",
    "x, y, z = symbols('x y z')\n",
    "init_printing()"
   ]
  },
  {
   "cell_type": "markdown",
   "id": "43f2e19e-ab3b-43fb-9f60-dbd4d51550b3",
   "metadata": {},
   "source": [
    "## Differentiation"
   ]
  },
  {
   "cell_type": "markdown",
   "id": "bf5eb1f4-e322-47aa-a876-70d713b3566c",
   "metadata": {},
   "source": [
    "Derivatives are computed with the `diff` method or function (both the method and the function are the same). You must pass the variable(s) you wish to differentiate with respect to as arguments."
   ]
  },
  {
   "cell_type": "code",
   "execution_count": 2,
   "id": "9f2de85b-c18c-4108-9b60-3b877b282248",
   "metadata": {
    "tags": []
   },
   "outputs": [
    {
     "data": {
      "text/latex": [
       "$\\displaystyle \\cos{\\left(x \\right)}$"
      ],
      "text/plain": [
       "cos(x)"
      ]
     },
     "execution_count": 2,
     "metadata": {},
     "output_type": "execute_result"
    }
   ],
   "source": [
    "diff(sin(x), x)"
   ]
  },
  {
   "cell_type": "code",
   "execution_count": 3,
   "id": "7f0d9343-8ae0-4846-9f7f-9c6da0941063",
   "metadata": {
    "tags": []
   },
   "outputs": [
    {
     "data": {
      "text/latex": [
       "$\\displaystyle \\cos{\\left(x \\right)}$"
      ],
      "text/plain": [
       "cos(x)"
      ]
     },
     "execution_count": 3,
     "metadata": {},
     "output_type": "execute_result"
    }
   ],
   "source": [
    "sin(x).diff(x) # same"
   ]
  },
  {
   "cell_type": "markdown",
   "id": "7db1cd28-1ad1-466f-8434-ead8f3523ef4",
   "metadata": {},
   "source": [
    "SymPy treats all variables as constants with respect to one another. If you don't specify a variable as a the variable you are differentiating wrt, that variable is treated as a constant."
   ]
  },
  {
   "cell_type": "code",
   "execution_count": 4,
   "id": "8973ef4c-c397-429b-a880-afce3721bf09",
   "metadata": {
    "tags": []
   },
   "outputs": [
    {
     "data": {
      "text/latex": [
       "$\\displaystyle \\sin{\\left(x \\right)} \\cos{\\left(y \\right)}$"
      ],
      "text/plain": [
       "sin(x)*cos(y)"
      ]
     },
     "execution_count": 4,
     "metadata": {},
     "output_type": "execute_result"
    }
   ],
   "source": [
    "expr = sin(x)*cos(y)\n",
    "expr"
   ]
  },
  {
   "cell_type": "code",
   "execution_count": 5,
   "id": "b5400ee0-2aa9-4cc3-99de-f01c520401cb",
   "metadata": {
    "tags": []
   },
   "outputs": [
    {
     "data": {
      "text/latex": [
       "$\\displaystyle \\cos{\\left(x \\right)} \\cos{\\left(y \\right)}$"
      ],
      "text/plain": [
       "cos(x)*cos(y)"
      ]
     },
     "execution_count": 5,
     "metadata": {},
     "output_type": "execute_result"
    }
   ],
   "source": [
    "expr.diff(x)"
   ]
  },
  {
   "cell_type": "code",
   "execution_count": 6,
   "id": "df28bc60-f54b-433d-aab6-bab9c69a8f6c",
   "metadata": {
    "tags": []
   },
   "outputs": [
    {
     "data": {
      "text/latex": [
       "$\\displaystyle - \\sin{\\left(x \\right)} \\sin{\\left(y \\right)}$"
      ],
      "text/plain": [
       "-sin(x)*sin(y)"
      ]
     },
     "execution_count": 6,
     "metadata": {},
     "output_type": "execute_result"
    }
   ],
   "source": [
    "expr.diff(y)"
   ]
  },
  {
   "cell_type": "markdown",
   "id": "32775e33-4dd7-4d6b-9fee-b1eeb627689b",
   "metadata": {},
   "source": [
    "To take multiple derivatives, pass multiple variables. You can take higher order derivatives with either `diff(expr, x, x, x)` or `diff(expr, x, 3)`."
   ]
  },
  {
   "cell_type": "code",
   "execution_count": 13,
   "id": "87b98bc4-fa74-4a4a-98c0-7a3f1aa4b037",
   "metadata": {
    "tags": []
   },
   "outputs": [
    {
     "data": {
      "text/latex": [
       "$\\displaystyle \\sin{\\left(\\frac{x}{2} \\right)}$"
      ],
      "text/plain": [
       "sin(x/2)"
      ]
     },
     "execution_count": 13,
     "metadata": {},
     "output_type": "execute_result"
    }
   ],
   "source": [
    "expr = sin(x/2)\n",
    "expr"
   ]
  },
  {
   "cell_type": "code",
   "execution_count": 9,
   "id": "12b49b09-5d82-4a1c-a472-6f88579b182b",
   "metadata": {
    "tags": []
   },
   "outputs": [
    {
     "data": {
      "text/latex": [
       "$\\displaystyle - \\frac{\\sin{\\left(\\frac{x}{2} \\right)}}{4}$"
      ],
      "text/plain": [
       "-sin(x/2)/4"
      ]
     },
     "execution_count": 9,
     "metadata": {},
     "output_type": "execute_result"
    }
   ],
   "source": [
    "diff(expr, x, x) # Second derivative"
   ]
  },
  {
   "cell_type": "code",
   "execution_count": 10,
   "id": "cd824b0f-1b9f-4591-84ef-5467e316b9a4",
   "metadata": {
    "tags": []
   },
   "outputs": [
    {
     "data": {
      "text/latex": [
       "$\\displaystyle - \\frac{\\cos{\\left(\\frac{x}{2} \\right)}}{8}$"
      ],
      "text/plain": [
       "-cos(x/2)/8"
      ]
     },
     "execution_count": 10,
     "metadata": {},
     "output_type": "execute_result"
    }
   ],
   "source": [
    "diff(expr, x, x, x) # Third derivative"
   ]
  },
  {
   "cell_type": "code",
   "execution_count": 11,
   "id": "efabb4c4-afa1-4e72-b756-7b56505feecd",
   "metadata": {
    "tags": []
   },
   "outputs": [
    {
     "data": {
      "text/latex": [
       "$\\displaystyle - \\frac{\\cos{\\left(\\frac{x}{2} \\right)}}{8}$"
      ],
      "text/plain": [
       "-cos(x/2)/8"
      ]
     },
     "execution_count": 11,
     "metadata": {},
     "output_type": "execute_result"
    }
   ],
   "source": [
    "diff(expr, x, 3) # Also the third derivative"
   ]
  },
  {
   "cell_type": "code",
   "execution_count": 16,
   "id": "d6471740-115e-430a-ae68-d5b919ea36ba",
   "metadata": {
    "tags": []
   },
   "outputs": [
    {
     "data": {
      "text/latex": [
       "$\\displaystyle y^{2} e^{x}$"
      ],
      "text/plain": [
       "y**2*exp(x)"
      ]
     },
     "execution_count": 16,
     "metadata": {},
     "output_type": "execute_result"
    }
   ],
   "source": [
    "expr = exp(x)*y**2\n",
    "expr"
   ]
  },
  {
   "cell_type": "markdown",
   "id": "d7157d0c-36c4-423c-9f3d-870efa3a62fd",
   "metadata": {},
   "source": [
    "$\\frac{\\partial^2 f}{\\partial x\\partial y}$"
   ]
  },
  {
   "cell_type": "code",
   "execution_count": 17,
   "id": "2131878e-ec07-4b77-82f1-b1e4eb657d5e",
   "metadata": {
    "tags": []
   },
   "outputs": [
    {
     "data": {
      "text/latex": [
       "$\\displaystyle 2 y e^{x}$"
      ],
      "text/plain": [
       "2*y*exp(x)"
      ]
     },
     "execution_count": 17,
     "metadata": {},
     "output_type": "execute_result"
    }
   ],
   "source": [
    "diff(expr, x, y)"
   ]
  },
  {
   "cell_type": "markdown",
   "id": "b7f60ddb-71b8-4893-8309-1c51c1512216",
   "metadata": {},
   "source": [
    "You can create unevaluated derivatives with `Derivative`."
   ]
  },
  {
   "cell_type": "code",
   "execution_count": 18,
   "id": "c49077ca-657c-41bb-82a0-727929447d50",
   "metadata": {
    "tags": []
   },
   "outputs": [
    {
     "data": {
      "text/latex": [
       "$\\displaystyle \\frac{d}{d x} \\sin{\\left(x \\right)}$"
      ],
      "text/plain": [
       "Derivative(sin(x), x)"
      ]
     },
     "execution_count": 18,
     "metadata": {},
     "output_type": "execute_result"
    }
   ],
   "source": [
    "Derivative(sin(x), x)"
   ]
  },
  {
   "cell_type": "markdown",
   "id": "e5cca38c-693d-4699-ab36-8c76315eb3a6",
   "metadata": {},
   "source": [
    "You can evaluate it with `.doit()`."
   ]
  },
  {
   "cell_type": "code",
   "execution_count": 19,
   "id": "e2b64c02-18cf-4c97-939b-19cae2658243",
   "metadata": {
    "tags": []
   },
   "outputs": [
    {
     "data": {
      "text/latex": [
       "$\\displaystyle \\cos{\\left(x \\right)}$"
      ],
      "text/plain": [
       "cos(x)"
      ]
     },
     "execution_count": 19,
     "metadata": {},
     "output_type": "execute_result"
    }
   ],
   "source": [
    "Derivative(sin(x), x).doit()"
   ]
  },
  {
   "cell_type": "markdown",
   "id": "68305f25-05a1-4999-85ea-0ad417a71653",
   "metadata": {},
   "source": [
    "An unevaluated derivative will be returned automatically if the derivative cannot be evaluated (e.g., for an undefined function). This is useful for ODEs.\n",
    "\n",
    "`Function('f')` is the best way to create a variable that \"depends\" on another variable in the differentiation sense. Otherwise, SymPy treats variables as constant wrt each other"
   ]
  },
  {
   "cell_type": "code",
   "execution_count": 23,
   "id": "1211db95-91a3-48ea-8aa8-f27eaa62fdbc",
   "metadata": {
    "tags": []
   },
   "outputs": [],
   "source": [
    "f = Function('f')"
   ]
  },
  {
   "cell_type": "code",
   "execution_count": 24,
   "id": "4d3c9832-28af-418e-a7a5-c8046fff5d39",
   "metadata": {
    "tags": []
   },
   "outputs": [
    {
     "data": {
      "text/latex": [
       "$\\displaystyle 0$"
      ],
      "text/plain": [
       "0"
      ]
     },
     "execution_count": 24,
     "metadata": {},
     "output_type": "execute_result"
    }
   ],
   "source": [
    "diff(y, x) # y is constant wrt x"
   ]
  },
  {
   "cell_type": "code",
   "execution_count": 25,
   "id": "2dd0c962-34d0-4983-b6a1-c98fdeb0a4c1",
   "metadata": {
    "tags": []
   },
   "outputs": [
    {
     "data": {
      "text/latex": [
       "$\\displaystyle \\frac{d}{d x} f{\\left(x \\right)}$"
      ],
      "text/plain": [
       "Derivative(f(x), x)"
      ]
     },
     "execution_count": 25,
     "metadata": {},
     "output_type": "execute_result"
    }
   ],
   "source": [
    "diff(f(x), x)"
   ]
  },
  {
   "cell_type": "markdown",
   "id": "e69cc54b-a28d-40a6-b1ab-12a325caebf8",
   "metadata": {},
   "source": [
    "In general in section:\n",
    "\n",
    "- A `lowercase` function evaluates.\n",
    "- The corresponding `Capitalized` function does not evaluate.\n",
    "- You can force the unevaluated variant to evaluate with `.doit()`.\n",
    "- If SymPy cannot compute an answer, it will return an unevaluated result. "
   ]
  },
  {
   "cell_type": "markdown",
   "id": "225b92ea-621a-4c06-979a-1a0596f728dd",
   "metadata": {
    "tags": []
   },
   "source": [
    "### Exercises"
   ]
  },
  {
   "cell_type": "markdown",
   "id": "511fc1ed-f39c-4f32-a286-7f39f55d52a7",
   "metadata": {},
   "source": [
    "Compute the following\n",
    "\n",
    "$$ \\frac{d}{dx}\\sin(x)e^x$$\n",
    "$$ \\frac{\\partial}{\\partial x}\\sin(xy)e^x $$\n",
    "$$ \\frac{\\partial^2}{\\partial x\\partial y}\\sin(xy)e^x $$\n"
   ]
  },
  {
   "cell_type": "code",
   "execution_count": null,
   "id": "00522dd3-37c8-45a2-b873-19da13cf4d90",
   "metadata": {},
   "outputs": [],
   "source": []
  },
  {
   "cell_type": "code",
   "execution_count": null,
   "id": "27b182a0-ac7c-4a2a-b4ed-c280ed31aae3",
   "metadata": {},
   "outputs": [],
   "source": []
  },
  {
   "cell_type": "code",
   "execution_count": null,
   "id": "3f4e013b-7ad0-4487-9f30-26ebea26b824",
   "metadata": {},
   "outputs": [],
   "source": []
  },
  {
   "cell_type": "markdown",
   "id": "4966605b-069b-48fc-a88d-24942ed4f43a",
   "metadata": {},
   "source": [
    "#### Advanced Exercise"
   ]
  },
  {
   "cell_type": "markdown",
   "id": "a940f1eb-a63f-4c7f-b6ae-38331a9208ab",
   "metadata": {},
   "source": [
    "Recall l'Hopital's rule, which states that if $$\\lim_{x\\to x_0}\\frac{f(x)}{g(x)}$$ is $\\frac{0}{0}$, $\\frac{\\infty}{\\infty}$, or $-\\frac{\\infty}{\\infty}$, then it is equal to $$\\lim_{x\\to x_0} \\frac{f'(x)}{g'(x)}$$ (we will not consider other indeterminate forms here).  \n",
    "\n",
    "Write a function that computes $\\lim_{x\\to x_0}\\frac{f(x)}{g(x)}$. Use the `fraction` function to get the numerator and denominator of an expression, for example"
   ]
  },
  {
   "cell_type": "code",
   "execution_count": 3,
   "id": "9a389e58-1f90-4e79-b751-d40eb680bc7c",
   "metadata": {
    "collapsed": false,
    "jupyter": {
     "outputs_hidden": false
    }
   },
   "outputs": [
    {
     "data": {
      "image/png": "[encoded data removed]",
      "text/latex": [
       "$$\\begin{pmatrix}x, & y\\end{pmatrix}$$"
      ],
      "text/plain": [
       "(x, y)"
      ]
     },
     "execution_count": 3,
     "metadata": {},
     "output_type": "execute_result"
    }
   ],
   "source": [
    "fraction(x/y)"
   ]
  },
  {
   "cell_type": "markdown",
   "id": "d896a34b-9559-40c4-b8be-913b4bc89e0c",
   "metadata": {},
   "source": [
    "You may assume that the only indeterminate forms are the ones mentioned above, and that l'Hopital's rule will terminate after a finite number of steps. Do not use `limit` (use `subs`). Remember that after taking the derivatives, you will need to put the expression into the form $\\frac{f(x)}{g(x)}$ before applying l'Hopital's rule again (what function did we learn that does this?)."
   ]
  },
  {
   "cell_type": "code",
   "execution_count": 4,
   "id": "2c3ddb01-0a30-4223-9ae9-3b3309bb69df",
   "metadata": {
    "collapsed": false,
    "jupyter": {
     "outputs_hidden": false
    }
   },
   "outputs": [],
   "source": [
    "def lhopital(expr, x, x0):\n",
    "    \"\"\"\n",
    "    Computes limit(expr, x, x0) using l'Hopital's rule.\n",
    "\n",
    "    >>> lhopital(sin(x)/x, x, 0)\n",
    "    1\n",
    "    >>> lhopital(exp(x)/x**2, x, oo)\n",
    "    oo\n",
    "    >>> lhopital((x**2 - 4*x + 4)/(2 - x), x, 2)\n",
    "    0\n",
    "    >>> lhopital(cos(x), x, 0)\n",
    "    1\n",
    "    >>> lhopital((x + sin(x))/x, x, 0)\n",
    "    2\n",
    "    \"\"\"\n"
   ]
  },
  {
   "cell_type": "code",
   "execution_count": 5,
   "id": "f05b4f45-d70a-44ae-8296-cddd1736f8a5",
   "metadata": {
    "collapsed": false,
    "jupyter": {
     "outputs_hidden": false
    }
   },
   "outputs": [],
   "source": [
    "lhopital(sin(x)/x, x, 0)"
   ]
  },
  {
   "cell_type": "code",
   "execution_count": 6,
   "id": "0f6998f8-1461-411c-b457-0f9b02b7b428",
   "metadata": {
    "collapsed": false,
    "jupyter": {
     "outputs_hidden": false
    }
   },
   "outputs": [],
   "source": [
    "lhopital(exp(x)/x**2, x, oo)"
   ]
  },
  {
   "cell_type": "code",
   "execution_count": 7,
   "id": "d4a9c414-e59d-4826-be73-d16a63525be6",
   "metadata": {
    "collapsed": false,
    "jupyter": {
     "outputs_hidden": false
    }
   },
   "outputs": [],
   "source": [
    "lhopital((x**2 - 4*x + 4)/(2 - x), x, 2)"
   ]
  },
  {
   "cell_type": "code",
   "execution_count": 8,
   "id": "aa062fbf-34be-4c32-9412-b9ed8ea0908d",
   "metadata": {
    "collapsed": false,
    "jupyter": {
     "outputs_hidden": false
    }
   },
   "outputs": [],
   "source": [
    "lhopital(cos(x), x, 0)"
   ]
  },
  {
   "cell_type": "code",
   "execution_count": 9,
   "id": "1f4d17f8-0212-42f4-afbc-a49808143db0",
   "metadata": {
    "collapsed": false,
    "jupyter": {
     "outputs_hidden": false
    }
   },
   "outputs": [],
   "source": [
    "lhopital((x + sin(x))/x, x, 0)"
   ]
  },
  {
   "cell_type": "markdown",
   "id": "920b1e15-60dd-4e75-a463-773674c7669a",
   "metadata": {
    "tags": []
   },
   "source": [
    "## Integration"
   ]
  },
  {
   "cell_type": "markdown",
   "id": "7e442910-b1d4-4679-844c-510a348f80bd",
   "metadata": {},
   "source": [
    "Symbolic integration is computed with `integrate()`. As with `diff`, you need to supply the variable to integrate with respect to. For example, computing $$\\int \\sin(x)\\,dx$$"
   ]
  },
  {
   "cell_type": "code",
   "execution_count": 26,
   "id": "dce0b08a-3caa-4251-a6c9-984d4992772a",
   "metadata": {
    "tags": []
   },
   "outputs": [
    {
     "data": {
      "text/latex": [
       "$\\displaystyle - \\cos{\\left(x \\right)}$"
      ],
      "text/plain": [
       "-cos(x)"
      ]
     },
     "execution_count": 26,
     "metadata": {},
     "output_type": "execute_result"
    }
   ],
   "source": [
    "integrate(sin(x), x)"
   ]
  },
  {
   "cell_type": "markdown",
   "id": "b698942b-2ca3-4d64-a9fc-997d21f87f71",
   "metadata": {},
   "source": [
    "Integrate does not include the constant of integration, but be aware for indefinite integrals that it is still there. The answer may not match what you expect exactly due to this."
   ]
  },
  {
   "cell_type": "code",
   "execution_count": 29,
   "id": "d1be1bb8-77ac-4afe-b74d-9bde6e069d9f",
   "metadata": {
    "tags": []
   },
   "outputs": [
    {
     "data": {
      "text/latex": [
       "$\\displaystyle \\frac{\\sin^{2}{\\left(x \\right)}}{2}$"
      ],
      "text/plain": [
       "sin(x)**2/2"
      ]
     },
     "execution_count": 29,
     "metadata": {},
     "output_type": "execute_result"
    }
   ],
   "source": [
    "integrate(sin(x)*cos(x), x) # A textbook may say the answer is -cos(x)^2/2"
   ]
  },
  {
   "cell_type": "markdown",
   "id": "3a614421-e132-4e84-b01d-67bb3c1c17ef",
   "metadata": {},
   "source": [
    "A definite integral (with limits) is computed by passing a tuple `(variable, lower_limit, upper_limit)`. Multiple integrals can be computed by passing multiple variables. For example, to compute $$\\int_0^\\infty e^{-x}\\,dx$$"
   ]
  },
  {
   "cell_type": "code",
   "execution_count": 30,
   "id": "bdcd9547-657f-46d2-837d-5784d69fd7d4",
   "metadata": {
    "tags": []
   },
   "outputs": [
    {
     "data": {
      "text/latex": [
       "$\\displaystyle 1$"
      ],
      "text/plain": [
       "1"
      ]
     },
     "execution_count": 30,
     "metadata": {},
     "output_type": "execute_result"
    }
   ],
   "source": [
    "integrate(exp(-x), (x, 0, oo)) # Remember that infinity is oo"
   ]
  },
  {
   "cell_type": "markdown",
   "id": "e635ea5a-59f6-4f06-ad75-fd958cb0f2a2",
   "metadata": {},
   "source": [
    "As with `diff`, you can create unevaluated integrals with `Integrate` and evaluate them with `.doit()`. If `integrate` cannot compute an answer, it will return an unevaluated integral. SymPy has some sophisticated integration algorithms, but there will always be integrals that it cannot compute."
   ]
  },
  {
   "cell_type": "code",
   "execution_count": 32,
   "id": "4022366e-f67a-494b-8d7f-63f67cc7dcbd",
   "metadata": {
    "tags": []
   },
   "outputs": [
    {
     "data": {
      "text/latex": [
       "$\\displaystyle \\int\\limits_{0}^{\\infty} e^{- x}\\, dx$"
      ],
      "text/plain": [
       "Integral(exp(-x), (x, 0, oo))"
      ]
     },
     "execution_count": 32,
     "metadata": {},
     "output_type": "execute_result"
    }
   ],
   "source": [
    "Integral(exp(-x), (x, 0, oo))"
   ]
  },
  {
   "cell_type": "code",
   "execution_count": 33,
   "id": "d9b196c7-c076-44ec-b021-aa9166e4f7d2",
   "metadata": {
    "tags": []
   },
   "outputs": [
    {
     "data": {
      "text/latex": [
       "$\\displaystyle 1$"
      ],
      "text/plain": [
       "1"
      ]
     },
     "execution_count": 33,
     "metadata": {},
     "output_type": "execute_result"
    }
   ],
   "source": [
    "Integral(exp(-x), (x, 0, oo)).doit()"
   ]
  },
  {
   "cell_type": "code",
   "execution_count": 37,
   "id": "b6be3386-3209-4a40-8750-6a9ef71924c6",
   "metadata": {
    "tags": []
   },
   "outputs": [
    {
     "data": {
      "text/latex": [
       "$\\displaystyle \\frac{3 \\sqrt{2} \\sqrt{\\pi} S\\left(\\frac{\\sqrt{2} x}{\\sqrt{\\pi}}\\right) \\Gamma\\left(\\frac{3}{4}\\right)}{8 \\Gamma\\left(\\frac{7}{4}\\right)}$"
      ],
      "text/plain": [
       "3*sqrt(2)*sqrt(pi)*fresnels(sqrt(2)*x/sqrt(pi))*gamma(3/4)/(8*gamma(7/4))"
      ]
     },
     "execution_count": 37,
     "metadata": {},
     "output_type": "execute_result"
    }
   ],
   "source": [
    "integrate(sin(x**2), x) # SymPy can compute some advanced integrals"
   ]
  },
  {
   "cell_type": "code",
   "execution_count": 38,
   "id": "a118130a-a7a1-4d1f-8091-71bbf5976c0a",
   "metadata": {
    "tags": []
   },
   "outputs": [
    {
     "data": {
      "text/latex": [
       "$\\displaystyle \\int \\frac{e^{x}}{\\log{\\left(x \\right)}}\\, dx$"
      ],
      "text/plain": [
       "Integral(exp(x)/log(x), x)"
      ]
     },
     "execution_count": 38,
     "metadata": {},
     "output_type": "execute_result"
    }
   ],
   "source": [
    "integrate(exp(x)/log(x), x) # SymPy cannot compute this, so the result is an unevaluated integral"
   ]
  },
  {
   "cell_type": "markdown",
   "id": "548a94fa-b044-45bb-8705-a68272910535",
   "metadata": {},
   "source": [
    "### Exercises"
   ]
  },
  {
   "cell_type": "code",
   "execution_count": 14,
   "id": "510bcc86-1a69-44de-bd30-a11141796386",
   "metadata": {
    "collapsed": false,
    "jupyter": {
     "outputs_hidden": false
    }
   },
   "outputs": [],
   "source": [
    "def int_table(exprs, x):\n",
    "    \"\"\"\n",
    "    Produces a nice integral table of the integrals of exprs\n",
    "\n",
    "    >>> int_table([sin(x), cos(x), exp(x), log(x)], x)\n",
    "    ⌠\n",
    "    ⎮ sin(x) dx = C - cos(x)\n",
    "    ⌡\n",
    "    ⌠\n",
    "    ⎮ cos(x) dx = C + sin(x)\n",
    "    ⌡\n",
    "    ⌠\n",
    "    ⎮  x           x\n",
    "    ⎮ ℯ  dx = C + ℯ\n",
    "    ⌡\n",
    "    ⌠\n",
    "    ⎮ log(x) dx = C + x⋅log(x) - x\n",
    "    ⌡\n",
    "    \"\"\"\n"
   ]
  },
  {
   "cell_type": "code",
   "execution_count": 15,
   "id": "868e40dd-103d-4cf9-95ac-f4e0b7416294",
   "metadata": {
    "collapsed": false,
    "jupyter": {
     "outputs_hidden": false
    }
   },
   "outputs": [],
   "source": [
    "int_table([sin(x), cos(x), exp(x), log(x)], x)"
   ]
  },
  {
   "cell_type": "markdown",
   "id": "919647bb-4ea8-407b-8d19-4a6a887381fd",
   "metadata": {},
   "source": [
    "Now use your function to compute the integrals in this Mathematica ad.  Remember that the inverse trig functions are spelled like `asin` in SymPy. \n",
    "\n",
    "The ad below probably has a typo, because one of the integrals is trivial to compute. Include what you think the integral should be, and see if SymPy can compute that as well."
   ]
  },
  {
   "cell_type": "markdown",
   "id": "01130e9e-70cd-42fb-98a8-0a1de496ae16",
   "metadata": {},
   "source": [
    "#### Advanced Exercise"
   ]
  },
  {
   "cell_type": "markdown",
   "id": "8805c159-f11a-476e-9bfc-c97aa43e287a",
   "metadata": {},
   "source": [
    "Recall that the mean value of a function on an interval $[a, b]$ can be computed by the formula\n",
    "\n",
    "$$\\frac{1}{b - a}\\int_{a}^{b} f{\\left (x \\right )} dx. % Why doesn't \\, work? $$\n",
    "\n",
    "Write a function that computes the mean value of an expression on a given interval."
   ]
  },
  {
   "cell_type": "code",
   "execution_count": 10,
   "id": "75f2aaab-8e95-46bd-b42f-4d8baa163846",
   "metadata": {
    "collapsed": false,
    "jupyter": {
     "outputs_hidden": false
    }
   },
   "outputs": [],
   "source": [
    "def average_value(expr, x, a, b):\n",
    "    \"\"\"\n",
    "    Computes the average value of expr with respect to x on [a, b].\n",
    "\n",
    "    >>> average_value(sin(x), x, 0, pi)\n",
    "    2/pi\n",
    "    >>> average_value(x, x, 2, 4)\n",
    "    3\n",
    "    >>> average_value(x*y, x, 2, 4)\n",
    "    3*y\n",
    "    \"\"\"\n"
   ]
  },
  {
   "cell_type": "code",
   "execution_count": 11,
   "id": "e9c20e2c-79bd-4114-86d4-cec6b41d1793",
   "metadata": {
    "collapsed": false,
    "jupyter": {
     "outputs_hidden": false
    }
   },
   "outputs": [],
   "source": [
    "average_value(sin(x), x, 0, pi)"
   ]
  },
  {
   "cell_type": "code",
   "execution_count": 12,
   "id": "ba8f79e8-5c02-46b8-8d7d-6c202db48394",
   "metadata": {
    "collapsed": false,
    "jupyter": {
     "outputs_hidden": false
    }
   },
   "outputs": [],
   "source": [
    "average_value(x, x, 2, 4)"
   ]
  },
  {
   "cell_type": "code",
   "execution_count": 13,
   "id": "bed071de-bf88-4492-bceb-55b81730981a",
   "metadata": {
    "collapsed": false,
    "jupyter": {
     "outputs_hidden": false
    }
   },
   "outputs": [],
   "source": [
    "average_value(x*y, x, 2, 4)"
   ]
  },
  {
   "cell_type": "markdown",
   "id": "0345c0d5-6fb0-4893-9da5-ade9ba32ff49",
   "metadata": {},
   "source": [
    "Write a function that takes a list of expressions and produces an \"integral table\", like\n",
    "\n",
    "1. $$\\int \\sin(x)dx = -\\cos(x) + C$$\n",
    "2. $$\\int \\cos(x)dx = \\sin(x) + C$$\n",
    "3. $$\\int e^xdx = e^x + C$$\n",
    "4. $$\\int \\log(x)dx = x(\\log(x) - 1) + C$$"
   ]
  },
  {
   "cell_type": "markdown",
   "id": "ba74a3f6-3f8b-4518-b631-5bb2e4ce73e4",
   "metadata": {},
   "source": [
    "## Limits"
   ]
  },
  {
   "cell_type": "markdown",
   "id": "67124aa2-e168-4c91-b856-fee656e5415c",
   "metadata": {},
   "source": [
    "SymPy can compute limits with the `limit()` function. The syntax is\n",
    "\n",
    "```python\n",
    "limit(function, variable, point, dir='+')\n",
    "```\n",
    "\n",
    "Note that `dir` defaults to `+`, i.e., taking a limit from the right. To take a bidirectional limit, use `dir='+-'`.\n",
    "\n",
    "For example, to compute $$\\lim_{x\\to 0}\\frac{\\sin(x)}{x}$$"
   ]
  },
  {
   "cell_type": "code",
   "execution_count": 41,
   "id": "fa682d92-ef30-43c2-b167-81383a0e348c",
   "metadata": {
    "tags": []
   },
   "outputs": [
    {
     "data": {
      "text/latex": [
       "$\\displaystyle 1$"
      ],
      "text/plain": [
       "1"
      ]
     },
     "execution_count": 41,
     "metadata": {},
     "output_type": "execute_result"
    }
   ],
   "source": [
    "limit(sin(x)/x, x, 0, dir='+-')\n"
   ]
  },
  {
   "cell_type": "markdown",
   "id": "827c1e75-4517-429b-8613-6dcbcc6c5949",
   "metadata": {},
   "source": [
    "Some more examples:"
   ]
  },
  {
   "cell_type": "markdown",
   "id": "2a93eb05-b1b7-4b69-86a6-724ca0140ad7",
   "metadata": {},
   "source": [
    "$$\\lim_{x\\to0^+} \\frac{1}{x}$$"
   ]
  },
  {
   "cell_type": "code",
   "execution_count": 43,
   "id": "74fdacb1-c474-4673-beb2-af23942d8be9",
   "metadata": {
    "tags": []
   },
   "outputs": [
    {
     "data": {
      "text/latex": [
       "$\\displaystyle \\infty$"
      ],
      "text/plain": [
       "oo"
      ]
     },
     "execution_count": 43,
     "metadata": {},
     "output_type": "execute_result"
    }
   ],
   "source": [
    "limit(1/x, x, 0, dir='+')"
   ]
  },
  {
   "cell_type": "markdown",
   "id": "9c962a17-71b5-421d-80e6-3c3e8fb85c8c",
   "metadata": {},
   "source": [
    "$$\\lim_{x\\to0^-} \\frac{1}{x}$$"
   ]
  },
  {
   "cell_type": "code",
   "execution_count": 44,
   "id": "22493683-7714-46c7-ae4b-e2709fa634c9",
   "metadata": {
    "tags": []
   },
   "outputs": [
    {
     "data": {
      "text/latex": [
       "$\\displaystyle -\\infty$"
      ],
      "text/plain": [
       "-oo"
      ]
     },
     "execution_count": 44,
     "metadata": {},
     "output_type": "execute_result"
    }
   ],
   "source": [
    "limit(1/x, x, 0, dir='-')"
   ]
  },
  {
   "cell_type": "markdown",
   "id": "21da4ed9-f46b-4bf9-8256-77928f072e4d",
   "metadata": {},
   "source": [
    "The bidirectional limit is $\\tilde{\\infty}$ (`zoo`). This is complex infinity, i.e., the north pole of the Riemann sphere (remember that SymPy uses complex numbers by default everywhere)."
   ]
  },
  {
   "cell_type": "code",
   "execution_count": 47,
   "id": "778df6fd-0f3e-4e9c-ba9d-73b8c794dda0",
   "metadata": {
    "tags": []
   },
   "outputs": [
    {
     "data": {
      "text/latex": [
       "$\\displaystyle \\tilde{\\infty}$"
      ],
      "text/plain": [
       "zoo"
      ]
     },
     "execution_count": 47,
     "metadata": {},
     "output_type": "execute_result"
    }
   ],
   "source": [
    "limit(1/x, x, 0, dir='+-')"
   ]
  },
  {
   "cell_type": "code",
   "execution_count": 49,
   "id": "99e5dfef-addf-4d0f-98ec-053f72e628e1",
   "metadata": {
    "tags": []
   },
   "outputs": [
    {
     "data": {
      "text/latex": [
       "$\\displaystyle \\tilde{\\infty}$"
      ],
      "text/plain": [
       "zoo"
      ]
     },
     "execution_count": 49,
     "metadata": {},
     "output_type": "execute_result"
    }
   ],
   "source": [
    "zoo"
   ]
  },
  {
   "cell_type": "markdown",
   "id": "0e7759ab-35ef-4847-9f66-f474def28415",
   "metadata": {},
   "source": [
    "`limit` is often better than `subs` if the term you are substituting is an indeterminate form. For example,"
   ]
  },
  {
   "cell_type": "code",
   "execution_count": 50,
   "id": "ae45e862-b0b3-44c9-9b17-4de11270fd5b",
   "metadata": {
    "tags": []
   },
   "outputs": [
    {
     "data": {
      "text/latex": [
       "$\\displaystyle x^{2} e^{- x}$"
      ],
      "text/plain": [
       "x**2*exp(-x)"
      ]
     },
     "execution_count": 50,
     "metadata": {},
     "output_type": "execute_result"
    }
   ],
   "source": [
    "expr = x**2/exp(x)\n",
    "expr"
   ]
  },
  {
   "cell_type": "markdown",
   "id": "7ddc7c81-659f-4312-81ad-594485cfc712",
   "metadata": {},
   "source": [
    "At $x=\\infty$, this expression is $\\frac{\\infty}{\\infty}$, which `subs` cannot evaluate, so we get NaN:"
   ]
  },
  {
   "cell_type": "code",
   "execution_count": 53,
   "id": "be92db38-be68-45ac-a490-2af54109e704",
   "metadata": {
    "tags": []
   },
   "outputs": [
    {
     "data": {
      "text/latex": [
       "$\\displaystyle \\text{NaN}$"
      ],
      "text/plain": [
       "nan"
      ]
     },
     "execution_count": 53,
     "metadata": {},
     "output_type": "execute_result"
    }
   ],
   "source": [
    "expr.subs(x, oo)"
   ]
  },
  {
   "cell_type": "markdown",
   "id": "29f93daf-ecc5-4ce2-a441-6a1fe004673f",
   "metadata": {},
   "source": [
    "`limit` gives the right answer."
   ]
  },
  {
   "cell_type": "code",
   "execution_count": 56,
   "id": "a1397ae6-5638-4aeb-acdb-a4d9d49dbbac",
   "metadata": {
    "tags": []
   },
   "outputs": [
    {
     "data": {
      "text/latex": [
       "$\\displaystyle 0$"
      ],
      "text/plain": [
       "0"
      ]
     },
     "execution_count": 56,
     "metadata": {},
     "output_type": "execute_result"
    }
   ],
   "source": [
    "limit(expr, x, oo) # Note that dir is automatically - for oo"
   ]
  },
  {
   "cell_type": "markdown",
   "id": "ff25555b-7dfd-4750-b9c5-92178548fe50",
   "metadata": {},
   "source": [
    "### Exercise"
   ]
  },
  {
   "cell_type": "markdown",
   "id": "33231439-49d7-43b3-8658-c221c9e1ca29",
   "metadata": {},
   "source": [
    "Recall that the definition of the derivative of $f(x)$ at $x=x_0$ is $$f'(x_0) = \\lim_{x\\to x_0}\\frac{f(x) - f(x_0)}{x - x_0}.$$  Write a function that computes the derivative using the limit definition, using `limit`."
   ]
  },
  {
   "cell_type": "code",
   "execution_count": 18,
   "id": "c6d75938-3699-42bc-a046-4cbee7ec0bc9",
   "metadata": {
    "collapsed": false,
    "jupyter": {
     "outputs_hidden": false
    }
   },
   "outputs": [],
   "source": [
    "def lim_deriv(expr, x, x0):\n",
    "    \"\"\"\n",
    "    Computes the derivative of expr with respect to x at x0 using the limit definition.\n",
    "\n",
    "    >>> lim_deriv(x**2, x, 0)\n",
    "    0\n",
    "    >>> lim_deriv(cos(x*y), x, pi)\n",
    "    -y*sin(pi*y)\n",
    "    \n",
    "    Note that we must use this trick to take the derivative without evaluating at a point.\n",
    "    >>> lim_deriv(exp(x**2), x, y).subs(y, x)\n",
    "    2*x*exp(x**2)\n",
    "    \"\"\"\n"
   ]
  },
  {
   "cell_type": "code",
   "execution_count": 19,
   "id": "097f8884-c4eb-4d91-800f-7022224d33a7",
   "metadata": {
    "collapsed": false,
    "jupyter": {
     "outputs_hidden": false
    }
   },
   "outputs": [],
   "source": [
    "lim_deriv(x**2, x, 0)"
   ]
  },
  {
   "cell_type": "code",
   "execution_count": 20,
   "id": "71b6a218-eef3-42fb-9de3-d08bcf45ca59",
   "metadata": {
    "collapsed": false,
    "jupyter": {
     "outputs_hidden": false
    }
   },
   "outputs": [],
   "source": [
    "lim_deriv(cos(x*y), x, pi)"
   ]
  },
  {
   "cell_type": "markdown",
   "id": "75b3d058-b011-4d4a-974e-49f3140ba36c",
   "metadata": {},
   "source": [
    "The function you wrote above to compute limits using l'Hopital's rule is very fragile. And even if you try to make it sophisticated, it will still be unable to compute many limits.  Try it on the following limits, and see what happens. Then try computing the same limits with `limit`. \n",
    "\n",
    "1. $$\\lim_{x\\to 0}\\frac{\\log(x)}{x}$$\n",
    "2. $$\\lim_{x\\to \\infty}\\frac{2^x}{3^x} \\textbf{Warning: Be sure to save the notebook before you test this one, and be prepared to kill the kernel!}$$\n",
    "3. $$\\lim_{x\\to \\infty}x\\sin{\\left(\\frac{1}{x}\\right)}$$\n",
    "4. $$\\lim_{x\\to 1}\\arctan\\left(\\frac{1}{1 - x}\\right)\\; \\text{Remember that $\\arctan$ is called }\\mathtt{atan}\\text{ in SymPy}$$\n",
    "\n",
    "The algorithm used by `limit()` is more sophisticated than l'Hopital's rule ([Gruntz's algorithm](https://docs.sympy.org/latest/modules/series/series.html#the-gruntz-algorithm)), and this is why."
   ]
  },
  {
   "cell_type": "code",
   "execution_count": 21,
   "id": "bc09c288-8e31-46c6-b7df-3822b0fec6ba",
   "metadata": {
    "collapsed": false,
    "jupyter": {
     "outputs_hidden": false
    }
   },
   "outputs": [],
   "source": [
    "lhopital(log(x)/x, x, 0)"
   ]
  },
  {
   "cell_type": "code",
   "execution_count": 22,
   "id": "5f0bf566-b18d-48a5-ba05-b1f296727c6b",
   "metadata": {
    "collapsed": false,
    "jupyter": {
     "outputs_hidden": false
    }
   },
   "outputs": [
    {
     "data": {
      "image/png": "[encoded data removed]",
      "text/latex": [
       "$$-\\infty$$"
      ],
      "text/plain": [
       "-∞"
      ]
     },
     "execution_count": 22,
     "metadata": {},
     "output_type": "execute_result"
    }
   ],
   "source": [
    "limit(log(x)/x, x, 0)"
   ]
  },
  {
   "cell_type": "code",
   "execution_count": 23,
   "id": "ac2b9b72-d7b1-4e29-90e9-3c33aa4e568c",
   "metadata": {
    "collapsed": false,
    "jupyter": {
     "outputs_hidden": false
    }
   },
   "outputs": [
    {
     "ename": "SyntaxError",
     "evalue": "invalid syntax (<ipython-input-23-daf458c59400>, line 1)",
     "output_type": "error",
     "traceback": [
      "\u001b[0;36m  File \u001b[0;32m\"<ipython-input-23-daf458c59400>\"\u001b[0;36m, line \u001b[0;32m1\u001b[0m\n\u001b[0;31m    lhopital(2**x/3**x, x, oo) XXX: Don't run. This hangs the notebook\u001b[0m\n\u001b[0m                                 ^\u001b[0m\n\u001b[0;31mSyntaxError\u001b[0m\u001b[0;31m:\u001b[0m invalid syntax\n"
     ]
    }
   ],
   "source": [
    "lhopital(2**x/3**x, x, oo) XXX: Don't run. This hangs the notebook"
   ]
  },
  {
   "cell_type": "code",
   "execution_count": null,
   "id": "2af6f1e4-ab21-4b18-b29b-1fe4f8e653ce",
   "metadata": {
    "collapsed": false,
    "jupyter": {
     "outputs_hidden": false
    }
   },
   "outputs": [],
   "source": [
    "limit(2**x/3**x, x, oo)"
   ]
  },
  {
   "cell_type": "code",
   "execution_count": 24,
   "id": "68207ed3-53f6-4c6f-b50d-85551e8e7ee9",
   "metadata": {
    "collapsed": false,
    "jupyter": {
     "outputs_hidden": false
    }
   },
   "outputs": [],
   "source": [
    "lhopital(x**(1/x**2), x, 0)"
   ]
  },
  {
   "cell_type": "code",
   "execution_count": 25,
   "id": "85512698-8568-4d57-a862-6992aedb6af7",
   "metadata": {
    "collapsed": false,
    "jupyter": {
     "outputs_hidden": false
    }
   },
   "outputs": [
    {
     "data": {
      "image/png": "[encoded data removed]",
      "text/latex": [
       "$$0$$"
      ],
      "text/plain": [
       "0"
      ]
     },
     "execution_count": 25,
     "metadata": {},
     "output_type": "execute_result"
    }
   ],
   "source": [
    "limit(x**(1/x**.5), x, 0)"
   ]
  },
  {
   "cell_type": "code",
   "execution_count": 26,
   "id": "7e01809b-9d41-42f8-b63a-9144ef0ba27b",
   "metadata": {
    "collapsed": false,
    "jupyter": {
     "outputs_hidden": false
    }
   },
   "outputs": [],
   "source": [
    "lhopital(x*sin(1/x), x, oo)"
   ]
  },
  {
   "cell_type": "code",
   "execution_count": 27,
   "id": "9591d576-159c-4716-8ccb-a8a432abb85d",
   "metadata": {
    "collapsed": false,
    "jupyter": {
     "outputs_hidden": false
    }
   },
   "outputs": [
    {
     "data": {
      "image/png": "[encoded data removed]",
      "text/latex": [
       "$$1$$"
      ],
      "text/plain": [
       "1"
      ]
     },
     "execution_count": 27,
     "metadata": {},
     "output_type": "execute_result"
    }
   ],
   "source": [
    "limit(x*sin(1/x), x, oo)"
   ]
  },
  {
   "cell_type": "code",
   "execution_count": 28,
   "id": "5900e529-e192-4cd6-97bf-149c2c700646",
   "metadata": {
    "collapsed": false,
    "jupyter": {
     "outputs_hidden": false
    }
   },
   "outputs": [],
   "source": [
    "lhopital(atan(1/(1 - x)), x, 1)"
   ]
  },
  {
   "cell_type": "code",
   "execution_count": 29,
   "id": "d2d5376c-32f4-4fce-a0fe-af68cd777424",
   "metadata": {
    "collapsed": false,
    "jupyter": {
     "outputs_hidden": false
    }
   },
   "outputs": [
    {
     "data": {
      "image/png": "[encoded data removed]",
      "text/latex": [
       "$$- \\frac{\\pi}{2}$$"
      ],
      "text/plain": [
       "-π \n",
       "───\n",
       " 2 "
      ]
     },
     "execution_count": 29,
     "metadata": {},
     "output_type": "execute_result"
    }
   ],
   "source": [
    "limit(atan(1/(1 - x)), x, 1)"
   ]
  },
  {
   "cell_type": "markdown",
   "id": "ecfbc935-39c5-4ff8-a779-75a2d90c3abd",
   "metadata": {},
   "source": [
    "## Series Expansion"
   ]
  },
  {
   "cell_type": "markdown",
   "id": "96accadc-7129-4561-838a-3432e5d2c77f",
   "metadata": {},
   "source": [
    "SymPy can compute series expansions using the `series` method. It is called like\n",
    "\n",
    "```\n",
    "expr.series(x, x0, n)\n",
    "```\n",
    "\n",
    "where `x` is the variable to expand on, `x0` is the point to expand around (defaults to `0`), and `n` is the order of the expansion (defaults to `6`). \n",
    "\n",
    "For example:"
   ]
  },
  {
   "cell_type": "code",
   "execution_count": 57,
   "id": "3e90f781-1cac-4143-998d-e6752d811ec6",
   "metadata": {
    "tags": []
   },
   "outputs": [
    {
     "data": {
      "text/latex": [
       "$\\displaystyle x - \\frac{x^{3}}{6} + \\frac{x^{5}}{120} + O\\left(x^{6}\\right)$"
      ],
      "text/plain": [
       "x - x**3/6 + x**5/120 + O(x**6)"
      ]
     },
     "execution_count": 57,
     "metadata": {},
     "output_type": "execute_result"
    }
   ],
   "source": [
    "sin(x).series(x)"
   ]
  },
  {
   "cell_type": "markdown",
   "id": "1f35a2aa-f975-42a6-b105-7ee7d1383c8b",
   "metadata": {},
   "source": [
    "Next, note that `series` returns an order term, $O\\left(x^6\\right)$. This term will automatically absorb higher order terms."
   ]
  },
  {
   "cell_type": "code",
   "execution_count": 66,
   "id": "119ea904-712b-4c63-867c-5f234699f4f9",
   "metadata": {
    "tags": []
   },
   "outputs": [
    {
     "data": {
      "image/png": "[encoded data removed]",
      "text/latex": [
       "$\\displaystyle x - \\frac{x^{3}}{6} + \\frac{x^{5}}{120} + O\\left(x^{6}\\right)$"
      ],
      "text/plain": [
       "     3     5        \n",
       "    x     x     ⎛ 6⎞\n",
       "x - ── + ─── + O⎝x ⎠\n",
       "    6    120        "
      ]
     },
     "execution_count": 66,
     "metadata": {},
     "output_type": "execute_result"
    }
   ],
   "source": [
    "series = sin(x).series(x)\n",
    "series"
   ]
  },
  {
   "cell_type": "code",
   "execution_count": 67,
   "id": "bbfa14f2-125d-4a23-bd9d-4848cb1df8ad",
   "metadata": {
    "tags": []
   },
   "outputs": [
    {
     "data": {
      "image/png": "[encoded data removed]",
      "text/latex": [
       "$\\displaystyle x - \\frac{x^{3}}{6} + \\frac{x^{5}}{120} + O\\left(x^{6}\\right)$"
      ],
      "text/plain": [
       "     3     5        \n",
       "    x     x     ⎛ 6⎞\n",
       "x - ── + ─── + O⎝x ⎠\n",
       "    6    120        "
      ]
     },
     "execution_count": 67,
     "metadata": {},
     "output_type": "execute_result"
    }
   ],
   "source": [
    "series + x**7"
   ]
  },
  {
   "cell_type": "markdown",
   "id": "9ef08fef-62c1-4c08-a35c-3053bb23ec34",
   "metadata": {},
   "source": [
    "However, in most cases, you will want to get rid of the order term. For example, if you try to substitute a value into the series, you will just get $O(1)$:"
   ]
  },
  {
   "cell_type": "code",
   "execution_count": 68,
   "id": "5ab90353-9454-46c6-9b53-87e465a325dd",
   "metadata": {
    "tags": []
   },
   "outputs": [
    {
     "data": {
      "image/png": "[encoded data removed]",
      "text/latex": [
       "$\\displaystyle O\\left(1\\right)$"
      ],
      "text/plain": [
       "O(1)"
      ]
     },
     "execution_count": 68,
     "metadata": {},
     "output_type": "execute_result"
    }
   ],
   "source": [
    "series.subs(x, 0.1)"
   ]
  },
  {
   "cell_type": "markdown",
   "id": "71cf7fe4-42e5-4376-a3de-87abfb5e0fcb",
   "metadata": {},
   "source": [
    "You can remove the order term with `.removeO()`:"
   ]
  },
  {
   "cell_type": "code",
   "execution_count": 69,
   "id": "ef74604a-0ff1-43de-97d3-6f33505d9835",
   "metadata": {
    "tags": []
   },
   "outputs": [
    {
     "data": {
      "image/png": "[encoded data removed]",
      "text/latex": [
       "$\\displaystyle \\frac{x^{5}}{120} - \\frac{x^{3}}{6} + x$"
      ],
      "text/plain": [
       "  5    3    \n",
       " x    x     \n",
       "─── - ── + x\n",
       "120   6     "
      ]
     },
     "execution_count": 69,
     "metadata": {},
     "output_type": "execute_result"
    }
   ],
   "source": [
    "series.removeO()"
   ]
  },
  {
   "cell_type": "code",
   "execution_count": 70,
   "id": "cd257b3c-4f3f-45be-a4e9-28499e8c6668",
   "metadata": {
    "tags": []
   },
   "outputs": [
    {
     "data": {
      "image/png": "[encoded data removed]",
      "text/latex": [
       "$\\displaystyle 0.0998334166666667$"
      ],
      "text/plain": [
       "0.0998334166666667"
      ]
     },
     "execution_count": 70,
     "metadata": {},
     "output_type": "execute_result"
    }
   ],
   "source": [
    "series.removeO().subs(x, 0.1)"
   ]
  },
  {
   "cell_type": "code",
   "execution_count": 71,
   "id": "962f0bce-0f7d-4913-9823-74acb9d2dc01",
   "metadata": {
    "tags": []
   },
   "outputs": [
    {
     "data": {
      "image/png": "[encoded data removed]",
      "text/latex": [
       "$\\displaystyle 0.0998334166468282$"
      ],
      "text/plain": [
       "0.0998334166468282"
      ]
     },
     "execution_count": 71,
     "metadata": {},
     "output_type": "execute_result"
    }
   ],
   "source": [
    "sin(0.1)"
   ]
  },
  {
   "cell_type": "markdown",
   "id": "7320ac13-7f47-4c91-a688-bb3ac07841c0",
   "metadata": {},
   "source": [
    "### Exercise"
   ]
  },
  {
   "cell_type": "markdown",
   "id": "6adb97d4-201f-412e-a6f2-0be4f6cb7287",
   "metadata": {},
   "source": [
    "The Fibonicci sequence is rexcursively defined by \n",
    "\n",
    "$$F_0 = 0,$$\n",
    "$$F_1 = 1,$$\n",
    "$$F_n = F_{n - 1} + F_{n - 2}.$$\n",
    "\n",
    "The first few vales are 0, 1, 1, 2, 3, 5, 8, 13, 21, …\n",
    "\n",
    "The Fibonicci sequence has a generating function given by $$s(x) = \\frac{x}{1 - x - x^2}$$ (see http://en.wikipedia.org/wiki/Fibonacci_number#Power_series for a derivation). What this means is that if we expand $s(x)$ as a power series, the coefficients are the Fibonicci numbers, $$s(x) = \\sum_{n=0}^\\infty F_nx^n$$"
   ]
  },
  {
   "cell_type": "markdown",
   "id": "4375dc0f-33d7-4332-be80-b2bb62764bb5",
   "metadata": {},
   "source": [
    "Write a function that uses series to compute the nth Fibonicci number. \n",
    "\n",
    "Hint: `expr.coeff(x, n)` will give the coefficient of $x^n$ in an expression. For example"
   ]
  },
  {
   "cell_type": "code",
   "execution_count": 30,
   "id": "3b0b7ea1-81ca-43da-991b-020f941e5c86",
   "metadata": {
    "collapsed": false,
    "jupyter": {
     "outputs_hidden": false
    }
   },
   "outputs": [
    {
     "data": {
      "image/png": "[encoded data removed]",
      "text/latex": [
       "$$1$$"
      ],
      "text/plain": [
       "1"
      ]
     },
     "execution_count": 30,
     "metadata": {},
     "output_type": "execute_result"
    }
   ],
   "source": [
    "(1 + 2*x - x**2).coeff(x, 0)"
   ]
  },
  {
   "cell_type": "code",
   "execution_count": 31,
   "id": "a24e6898-7f6a-417f-ab8f-9ee9987e8aee",
   "metadata": {
    "collapsed": false,
    "jupyter": {
     "outputs_hidden": false
    }
   },
   "outputs": [
    {
     "data": {
      "image/png": "[encoded data removed]",
      "text/latex": [
       "$$2$$"
      ],
      "text/plain": [
       "2"
      ]
     },
     "execution_count": 31,
     "metadata": {},
     "output_type": "execute_result"
    }
   ],
   "source": [
    "(1 + 2*x - x**2).coeff(x, 1)"
   ]
  },
  {
   "cell_type": "code",
   "execution_count": 32,
   "id": "bb0adcb8-8269-40d3-9400-9b8d43ce40cf",
   "metadata": {
    "collapsed": false,
    "jupyter": {
     "outputs_hidden": false
    }
   },
   "outputs": [
    {
     "data": {
      "image/png": "[encoded data removed]",
      "text/latex": [
       "$$-1$$"
      ],
      "text/plain": [
       "-1"
      ]
     },
     "execution_count": 32,
     "metadata": {},
     "output_type": "execute_result"
    }
   ],
   "source": [
    "(1 + 2*x - x**2).coeff(x, 2)"
   ]
  },
  {
   "cell_type": "code",
   "execution_count": 33,
   "id": "1ca7b993-f4be-4020-b1fc-0b0973990518",
   "metadata": {
    "collapsed": false,
    "jupyter": {
     "outputs_hidden": false
    }
   },
   "outputs": [],
   "source": [
    "def fib(n):\n",
    "    \"\"\"\n",
    "    Uses series expansion and a generating function to compute the nth Fibonnicci number.\n",
    "\n",
    "    >>> fib(0)\n",
    "    0\n",
    "    >>> fib(4)\n",
    "    3\n",
    "    >>> fib(9)\n",
    "    34\n",
    "    \"\"\"\n"
   ]
  },
  {
   "cell_type": "code",
   "execution_count": 34,
   "id": "d8188430-e391-4647-9be7-896795237eb6",
   "metadata": {
    "collapsed": false,
    "jupyter": {
     "outputs_hidden": false
    }
   },
   "outputs": [],
   "source": [
    "fib(0)"
   ]
  },
  {
   "cell_type": "code",
   "execution_count": 35,
   "id": "48ca36ff-33b0-4970-ab53-610b99732dc8",
   "metadata": {
    "collapsed": false,
    "jupyter": {
     "outputs_hidden": false
    }
   },
   "outputs": [],
   "source": [
    "fib(4)"
   ]
  },
  {
   "cell_type": "code",
   "execution_count": 36,
   "id": "ab1b2c2e-1ea1-45b9-9f77-1e671b342b5f",
   "metadata": {
    "collapsed": false,
    "jupyter": {
     "outputs_hidden": false
    }
   },
   "outputs": [],
   "source": [
    "fib(9)"
   ]
  },
  {
   "cell_type": "markdown",
   "id": "2f9dffb2-ff56-44ec-a35d-216a03fb998c",
   "metadata": {},
   "source": [
    "Note: if you really want to compute Fibonicci numbers, there is a function in SymPy called `fibonicci` that can do this far more efficiently."
   ]
  },
  {
   "cell_type": "code",
   "execution_count": 37,
   "id": "cedd5fe3-2aa5-4cc5-b835-d54c51dd81c7",
   "metadata": {
    "collapsed": false,
    "jupyter": {
     "outputs_hidden": false
    }
   },
   "outputs": [
    {
     "data": {
      "image/png": "[encoded data removed]",
      "text/latex": [
       "$$\\begin{bmatrix}0, & 1, & 1, & 2, & 3, & 5, & 8, & 13, & 21, & 34\\end{bmatrix}$$"
      ],
      "text/plain": [
       "[0, 1, 1, 2, 3, 5, 8, 13, 21, 34]"
      ]
     },
     "execution_count": 37,
     "metadata": {},
     "output_type": "execute_result"
    }
   ],
   "source": [
    "[fibonacci(i) for i in range(10)]"
   ]
  },
  {
   "cell_type": "markdown",
   "id": "6fa11568-8acc-4ebb-bfcb-d5a5ba0d8299",
   "metadata": {},
   "source": [
    "### lseries"
   ]
  },
  {
   "cell_type": "markdown",
   "id": "d1e91001-d251-4177-a76c-86d33fa8b2bc",
   "metadata": {},
   "source": [
    "Note that `n=6` (the default) is the *order* of the series, *not* the number of terms. If you specifically want a given number of terms, you can use `lseries`, which returns a generator:"
   ]
  },
  {
   "cell_type": "code",
   "execution_count": 63,
   "id": "b754ea25-36cf-4ea8-8101-fc4ca8f5aab4",
   "metadata": {
    "tags": []
   },
   "outputs": [
    {
     "data": {
      "text/plain": [
       "<generator object Expr.series.<locals>.<genexpr> at 0x1072dde40>"
      ]
     },
     "execution_count": 63,
     "metadata": {},
     "output_type": "execute_result"
    }
   ],
   "source": [
    "sin(x).lseries(x)"
   ]
  },
  {
   "cell_type": "code",
   "execution_count": 64,
   "id": "47f46a61-2076-46a5-9a89-efa80aacbf0e",
   "metadata": {
    "tags": []
   },
   "outputs": [
    {
     "data": {
      "image/png": "[encoded data removed]",
      "text/latex": [
       "$\\displaystyle \\left[ x, \\  - \\frac{x^{3}}{6}, \\  \\frac{x^{5}}{120}, \\  - \\frac{x^{7}}{5040}, \\  \\frac{x^{9}}{362880}, \\  - \\frac{x^{11}}{39916800}\\right]$"
      ],
      "text/plain": [
       "⎡     3     5    7      9       11   ⎤\n",
       "⎢   -x     x   -x      x      -x     ⎥\n",
       "⎢x, ────, ───, ────, ──────, ────────⎥\n",
       "⎣    6    120  5040  362880  39916800⎦"
      ]
     },
     "execution_count": 64,
     "metadata": {},
     "output_type": "execute_result"
    }
   ],
   "source": [
    "[next(_) for i in range(6)]"
   ]
  },
  {
   "cell_type": "markdown",
   "id": "a1dc858f-6089-4dc6-b450-1fa111b1395a",
   "metadata": {},
   "source": [
    "#### Exercise"
   ]
  },
  {
   "cell_type": "markdown",
   "id": "3feabe6b-ef79-4f24-a24e-c18aece4f466",
   "metadata": {},
   "source": [
    "Write a function that computes the number of terms of a series expansion of a given function are needed to compute the given value near the given point within the given accuracy. For example, in the expansion of cos(x) near $\\pi$, suppode we wish to compute $\\pi + 1$. Let us see if terms up to $O(x^6)$ are sufficient."
   ]
  },
  {
   "cell_type": "code",
   "execution_count": 73,
   "id": "e36f75ae-e468-472e-8635-7f5e658dd1f7",
   "metadata": {
    "collapsed": false,
    "jupyter": {
     "outputs_hidden": false
    },
    "tags": []
   },
   "outputs": [
    {
     "data": {
      "image/png": "[encoded data removed]",
      "text/latex": [
       "$\\displaystyle - \\frac{\\left(x - \\pi\\right)^{4}}{24} + \\frac{\\left(x - \\pi\\right)^{2}}{2} - 1$"
      ],
      "text/plain": [
       "         4          2    \n",
       "  (x - π)    (x - π)     \n",
       "- ──────── + ──────── - 1\n",
       "     24         2        "
      ]
     },
     "execution_count": 73,
     "metadata": {},
     "output_type": "execute_result"
    }
   ],
   "source": [
    "series = cos(x).series(x, pi, 5).removeO()\n",
    "series"
   ]
  },
  {
   "cell_type": "code",
   "execution_count": 74,
   "id": "904e920e-6863-4534-ba72-9b53cf834829",
   "metadata": {
    "tags": []
   },
   "outputs": [
    {
     "data": {
      "image/png": "[encoded data removed]",
      "text/latex": [
       "$\\displaystyle -0.541666666666667$"
      ],
      "text/plain": [
       "-0.541666666666667"
      ]
     },
     "execution_count": 74,
     "metadata": {},
     "output_type": "execute_result"
    }
   ],
   "source": [
    "a = series.evalf(subs={x: pi + 1})\n",
    "a"
   ]
  },
  {
   "cell_type": "code",
   "execution_count": 75,
   "id": "f024e60c-7c1c-48b3-8836-3c5dad531878",
   "metadata": {
    "collapsed": false,
    "jupyter": {
     "outputs_hidden": false
    },
    "tags": []
   },
   "outputs": [
    {
     "data": {
      "image/png": "[encoded data removed]",
      "text/latex": [
       "$\\displaystyle -0.54030230586814$"
      ],
      "text/plain": [
       "-0.540302305868140"
      ]
     },
     "execution_count": 75,
     "metadata": {},
     "output_type": "execute_result"
    }
   ],
   "source": [
    "b = cos(pi + 1).evalf() # Exact value\n",
    "b"
   ]
  },
  {
   "cell_type": "markdown",
   "id": "c92ab8a3-dd7a-4747-8143-010e610124c1",
   "metadata": {},
   "source": [
    "So the expansion is accurate up to two places after the decimal point, i.e., within `0.01`. "
   ]
  },
  {
   "cell_type": "code",
   "execution_count": 76,
   "id": "4dc65a5e-2a58-4379-9604-28fc0e9d1eb5",
   "metadata": {
    "collapsed": false,
    "jupyter": {
     "outputs_hidden": false
    },
    "tags": []
   },
   "outputs": [
    {
     "data": {
      "image/png": "[encoded data removed]",
      "text/latex": [
       "$\\displaystyle \\text{True}$"
      ],
      "text/plain": [
       "True"
      ]
     },
     "execution_count": 76,
     "metadata": {},
     "output_type": "execute_result"
    }
   ],
   "source": [
    "abs(a - b) < 0.01"
   ]
  },
  {
   "cell_type": "markdown",
   "id": "0411bc5d-1b40-4b95-9591-b2ff3ebb51c8",
   "metadata": {},
   "source": [
    "Hint: to get the exponent from a term like `3*(x - 1)**5`, use `as_coeff_exponent`. "
   ]
  },
  {
   "cell_type": "code",
   "execution_count": 43,
   "id": "52347897-d1bd-4be7-97d1-dba388d358ae",
   "metadata": {
    "collapsed": false,
    "jupyter": {
     "outputs_hidden": false
    }
   },
   "outputs": [
    {
     "data": {
      "image/png": "[encoded data removed]",
      "text/latex": [
       "$$\\begin{pmatrix}3, & 5\\end{pmatrix}$$"
      ],
      "text/plain": [
       "(3, 5)"
      ]
     },
     "execution_count": 43,
     "metadata": {},
     "output_type": "execute_result"
    }
   ],
   "source": [
    "(3*(x - 1)**5).as_coeff_exponent(x - 1)"
   ]
  },
  {
   "cell_type": "code",
   "execution_count": 44,
   "id": "ee542d6d-2751-4e93-a1e9-4b3b39965a77",
   "metadata": {
    "collapsed": false,
    "jupyter": {
     "outputs_hidden": false
    }
   },
   "outputs": [],
   "source": [
    "def series_accuracy(func, expansion_point, evaluation_point, accuracy, x):\n",
    "    \"\"\"\n",
    "    Returns n such that series terms up to and including (x - expansion_point)**n \n",
    "    (i.e., O((x - expansion_point)**(n + 1)) are needed to compute func at \n",
    "    evaluation_point within the given accuracy.\n",
    "\n",
    "    >>> series_accuracy(cos(x), pi, pi + 1, 0.01, x)\n",
    "    4\n",
    "    >>> series_accuracy(exp(x), 1, 10, 1, x)\n",
    "    23\n",
    "    \"\"\"\n"
   ]
  },
  {
   "cell_type": "code",
   "execution_count": 45,
   "id": "985ef2e9-0a83-478c-92e9-7a672444769a",
   "metadata": {
    "collapsed": false,
    "jupyter": {
     "outputs_hidden": false
    }
   },
   "outputs": [],
   "source": [
    "series_accuracy(cos(x), pi, pi + 1, 0.01, x)"
   ]
  },
  {
   "cell_type": "code",
   "execution_count": 46,
   "id": "5d00f80d-8547-46c7-83c0-21bfa37d89f6",
   "metadata": {
    "collapsed": false,
    "jupyter": {
     "outputs_hidden": false
    }
   },
   "outputs": [],
   "source": [
    "series_accuracy(exp(x), 1, 10, 1, x)"
   ]
  }
 ],
 "metadata": {
  "kernelspec": {
   "display_name": "Python 3 (ipykernel)",
   "language": "python",
   "name": "python3"
  },
  "language_info": {
   "codemirror_mode": {
    "name": "ipython",
    "version": 3
   },
   "file_extension": ".py",
   "mimetype": "text/x-python",
   "name": "python",
   "nbconvert_exporter": "python",
   "pygments_lexer": "ipython3",
   "version": "3.9.15"
  }
 },
 "nbformat": 4,
 "nbformat_minor": 5
}
