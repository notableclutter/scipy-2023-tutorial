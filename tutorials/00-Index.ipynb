{
 "cells": [
  {
   "cell_type": "markdown",
   "id": "c82f37ec-d376-410c-9959-7a54001451c6",
   "metadata": {},
   "source": [
    "# SymPy Introductory Tutorial: SciPy 2023\n",
    "\n",
    "- [01-Introduction.ipynb](01-Introduction.ipynb)\n",
    "  - [01-Introduction-Solutions.ipynb](01-Introduction-Solutions.ipynb)\n",
    "- [02-Basic-Operations.ipynb](02-Basic-Operations.ipynb)\n",
    "  - [02-Basic-Operations-Solutions.ipynb](02-Basic-Operations-Solutions.ipynb)\n",
    "- [03-Simplification.ipynb](03-Simplification.ipynb)\n",
    "  - [03-Simplification-Solutions.ipynb](03-Simplification-Solutions.ipynb) \n",
    "- [04-Calculus.ipynb](04-Calculus.ipynb)\n",
    "  - [04-Calculus-Solutions.ipynb](04-Calculus-Solutions.ipynb)\n",
    "- [05-Matrices.ipynb](05-Matrices.ipynb)\n",
    "  - [05-Matrices-Solutions.ipynb](05-Matrices-Solutions.ipynb)\n",
    "- [06-Advanced-Expression-Manipulation.ipynb](06-Advanced-Expression-Manipulation.ipynb)\n",
    "  - [06-Advanced-Expression-Manipulation-Solutions.ipynb](06-Advanced-Expression-Manipulation-Solutions.ipynb)\n",
    "- [07-Code-Generation.ipynb](07-Code-Generation.ipynb)\n",
    "  - [07-Code-Generation-Solutions.ipynb](07-Code-Generation-Solutions.ipynb)\n",
    "- [08-Solvers.ipynb](08-Solvers.ipynb)\n",
    "  - [08-Solvers-Solutions.ipynb](08-Solvers-Solutions.ipynb)"
   ]
  },
  {
   "cell_type": "code",
   "execution_count": null,
   "id": "9ad72a77-c158-4af5-96dc-75e0cddec390",
   "metadata": {},
   "outputs": [],
   "source": [
    "\n"
   ]
  }
 ],
 "metadata": {
  "kernelspec": {
   "display_name": "Python 3 (ipykernel)",
   "language": "python",
   "name": "python3"
  },
  "language_info": {
   "codemirror_mode": {
    "name": "ipython",
    "version": 3
   },
   "file_extension": ".py",
   "mimetype": "text/x-python",
   "name": "python",
   "nbconvert_exporter": "python",
   "pygments_lexer": "ipython3",
   "version": "3.9.15"
  }
 },
 "nbformat": 4,
 "nbformat_minor": 5
}
