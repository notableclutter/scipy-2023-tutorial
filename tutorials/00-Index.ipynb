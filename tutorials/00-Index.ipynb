{
 "cells": [
  {
   "cell_type": "markdown",
   "id": "c82f37ec-d376-410c-9959-7a54001451c6",
   "metadata": {},
   "source": [
    "# SymPy Introductory Tutorial: SciPy 2023\n",
    "\n",
    "- [01-Introduction.ipynb](01-Introduction.ipynb)\n",
    "- [02-Basic-Operations.ipynb](02-Basic-Operations.ipynb)\n",
    "- [03-Simplification.ipynb](03-Simplification.ipynb)\n",
    "- [04-Calculus.ipynb](04-Calculus.ipynb)\n",
    "- [05-Matrices.ipynb](05-Matrices.ipynb)\n",
    "- [06-Advanced-Expression-Manipulation.ipynb](06-Advanced-Expression-Manipulation.ipynb)\n",
    "- [07-Code-Generation.ipynb](07-Code-Generation.ipynb)"
   ]
  },
  {
   "cell_type": "code",
   "execution_count": null,
   "id": "9ad72a77-c158-4af5-96dc-75e0cddec390",
   "metadata": {},
   "outputs": [],
   "source": []
  }
 ],
 "metadata": {
  "kernelspec": {
   "display_name": "Python 3 (ipykernel)",
   "language": "python",
   "name": "python3"
  },
  "language_info": {
   "codemirror_mode": {
    "name": "ipython",
    "version": 3
   },
   "file_extension": ".py",
   "mimetype": "text/x-python",
   "name": "python",
   "nbconvert_exporter": "python",
   "pygments_lexer": "ipython3",
   "version": "3.11.2"
  }
 },
 "nbformat": 4,
 "nbformat_minor": 5
}
