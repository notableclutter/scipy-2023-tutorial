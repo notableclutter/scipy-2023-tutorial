{
 "cells": [
  {
   "cell_type": "markdown",
   "id": "c82f37ec-d376-410c-9959-7a54001451c6",
   "metadata": {},
   "source": [
    "# SymPy Introductory Tutorial: SciPy 2023\n",
    "\n",
    "![SymPy logo](https://raw.githubusercontent.com/sympy/scipy-2023-tutorial/main/tutorials/images/logo.png)\n",
    "\n",
    "- [https://raw.githubusercontent.com/sympy/scipy-2023-tutorial/main/tutorials/01-Introduction.ipynb](01-Introduction.ipynb)\n",
    "  - [https://raw.githubusercontent.com/sympy/scipy-2023-tutorial/main/tutorials/01-Introduction-Solutions.ipynb](01-Introduction-Solutions.ipynb)\n",
    "- [https://raw.githubusercontent.com/sympy/scipy-2023-tutorial/main/tutorials/02-Basic-Operations.ipynb](02-Basic-Operations.ipynb)\n",
    "  - [https://raw.githubusercontent.com/sympy/scipy-2023-tutorial/main/tutorials/02-Basic-Operations-Solutions.ipynb](02-Basic-Operations-Solutions.ipynb)\n",
    "- [https://raw.githubusercontent.com/sympy/scipy-2023-tutorial/main/tutorials/03-Simplification.ipynb](03-Simplification.ipynb)\n",
    "  - [https://raw.githubusercontent.com/sympy/scipy-2023-tutorial/main/tutorials/03-Simplification-Solutions.ipynb](03-Simplification-Solutions.ipynb) \n",
    "- [https://raw.githubusercontent.com/sympy/scipy-2023-tutorial/main/tutorials/04-Calculus.ipynb](04-Calculus.ipynb)\n",
    "  - [https://raw.githubusercontent.com/sympy/scipy-2023-tutorial/main/tutorials/04-Calculus-Solutions.ipynb](04-Calculus-Solutions.ipynb)\n",
    "- [https://raw.githubusercontent.com/sympy/scipy-2023-tutorial/main/tutorials/05-Solvers.ipynb](05-Solvers.ipynb)\n",
    "  - [https://raw.githubusercontent.com/sympy/scipy-2023-tutorial/main/tutorials/05-Solvers-Solutions.ipynb](05-Solvers-Solutions.ipynb)\n",
    "- [https://raw.githubusercontent.com/sympy/scipy-2023-tutorial/main/tutorials/06-Matrices.ipynb](06-Matrices.ipynb)\n",
    "  - [https://raw.githubusercontent.com/sympy/scipy-2023-tutorial/main/tutorials/06-Matrices-Solutions.ipynb](06-Matrices-Solutions.ipynb)\n",
    "- [https://raw.githubusercontent.com/sympy/scipy-2023-tutorial/main/tutorials/07-Code-Generation.ipynb](07-Code-Generation.ipynb)\n",
    "  - [https://raw.githubusercontent.com/sympy/scipy-2023-tutorial/main/tutorials/07-Code-Generation-Solutions.ipynb](07-Code-Generation-Solutions.ipynb)\n",
    "- [https://raw.githubusercontent.com/sympy/scipy-2023-tutorial/main/tutorials/08-Advanced-Expression-Manipulation.ipynb](08-Advanced-Expression-Manipulation.ipynb)\n",
    "  - [https://raw.githubusercontent.com/sympy/scipy-2023-tutorial/main/tutorials/08-Advanced-Expression-Manipulation-Solutions.ipynb](08-Advanced-Expression-Manipulation-Solutions.ipynb)"
   ]
  },
  {
   "cell_type": "code",
   "execution_count": null,
   "id": "39949ecb-3d08-4cc3-a2c6-785181ebfc24",
   "metadata": {},
   "outputs": [],
   "source": []
  }
 ],
 "metadata": {
  "kernelspec": {
   "display_name": "Python 3 (ipykernel)",
   "language": "python",
   "name": "python3"
  },
  "language_info": {
   "codemirror_mode": {
    "name": "ipython",
    "version": 3
   },
   "file_extension": ".py",
   "mimetype": "text/x-python",
   "name": "python",
   "nbconvert_exporter": "python",
   "pygments_lexer": "ipython3",
   "version": "3.9.15"
  }
 },
 "nbformat": 4,
 "nbformat_minor": 5
}
