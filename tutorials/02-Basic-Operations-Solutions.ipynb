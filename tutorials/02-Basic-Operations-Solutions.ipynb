{
 "cells": [
  {
   "cell_type": "markdown",
   "id": "f8d03c6a-8b03-4474-8b1f-56cc68d85190",
   "metadata": {},
   "source": [
    "# Solution for the pattern matching exercise"
   ]
  },
  {
   "cell_type": "code",
   "execution_count": 3,
   "id": "65dc4eaa-7ea5-46bc-ad60-1186cb6fbc17",
   "metadata": {},
   "outputs": [
    {
     "data": {
      "text/plain": [
       "{n_: 1, b_: 1, a_: 0, p_: 1, m_: 0}"
      ]
     },
     "execution_count": 3,
     "metadata": {},
     "output_type": "execute_result"
    }
   ],
   "source": [
    "from sympy import *\n",
    "\n",
    "x = Symbol('x')\n",
    "a = Wild('a', exclude=[x])\n",
    "b = Wild('b', exclude=[x])\n",
    "m = Wild('m', exclude=[x])\n",
    "n = Wild('n', exclude=[x])\n",
    "p = Wild('p', exclude=[x])\n",
    "\n",
    "pattern = x**m * (a + b*x**n)**p\n",
    "x.match(pattern)"
   ]
  },
  {
   "cell_type": "code",
   "execution_count": 6,
   "id": "f1be6dc7-7ff1-4b7d-b4cb-9439a6b2a7bd",
   "metadata": {},
   "outputs": [
    {
     "data": {
      "text/plain": [
       "{m_: 1, b_: 2, n_: 0, a_: 0, p_: 1}"
      ]
     },
     "execution_count": 6,
     "metadata": {},
     "output_type": "execute_result"
    }
   ],
   "source": [
    "(2*x).match(pattern)"
   ]
  },
  {
   "cell_type": "code",
   "execution_count": 5,
   "id": "d8d12e5b-8353-41f5-b99e-46aec8cea0bd",
   "metadata": {},
   "outputs": [
    {
     "data": {
      "text/plain": [
       "{n_: 1, b_: 1, a_: 1, p_: 1, m_: 0}"
      ]
     },
     "execution_count": 5,
     "metadata": {},
     "output_type": "execute_result"
    }
   ],
   "source": [
    "(x + 1).match(pattern)"
   ]
  },
  {
   "cell_type": "code",
   "execution_count": 7,
   "id": "9f45faa3-5c61-4721-ad60-71989f16a690",
   "metadata": {},
   "outputs": [
    {
     "data": {
      "text/plain": [
       "{n_: 1, b_: 2, a_: 1, p_: 1, m_: 0}"
      ]
     },
     "execution_count": 7,
     "metadata": {},
     "output_type": "execute_result"
    }
   ],
   "source": [
    "(2*x + 1).match(pattern)"
   ]
  },
  {
   "cell_type": "code",
   "execution_count": 4,
   "id": "12f82945-5c17-4fc4-8e53-c68d1320c101",
   "metadata": {},
   "outputs": [
    {
     "data": {
      "text/plain": [
       "{n_: 1, b_: 1, a_: 1, p_: 3, m_: 2}"
      ]
     },
     "execution_count": 4,
     "metadata": {},
     "output_type": "execute_result"
    }
   ],
   "source": [
    "(x**2 * (x + 1)**3).match(pattern)"
   ]
  },
  {
   "cell_type": "code",
   "execution_count": null,
   "id": "2ad11d31-0431-4aa8-98c5-f01cc39b9a67",
   "metadata": {},
   "outputs": [],
   "source": []
  }
 ],
 "metadata": {
  "kernelspec": {
   "display_name": "Python 3 (ipykernel)",
   "language": "python",
   "name": "python3"
  },
  "language_info": {
   "codemirror_mode": {
    "name": "ipython",
    "version": 3
   },
   "file_extension": ".py",
   "mimetype": "text/x-python",
   "name": "python",
   "nbconvert_exporter": "python",
   "pygments_lexer": "ipython3",
   "version": "3.11.2"
  }
 },
 "nbformat": 4,
 "nbformat_minor": 5
}
